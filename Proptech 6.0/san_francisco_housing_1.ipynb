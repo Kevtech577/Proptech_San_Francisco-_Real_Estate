{
 "cells": [
  {
   "cell_type": "markdown",
   "metadata": {
    "tags": []
   },
   "source": [
    "# Housing Rental Analysis for San Francisco\n",
    "\n",
    "In this challenge, your job is to use your data visualization skills, including aggregation, interactive visualizations, and geospatial analysis, to find properties in the San Francisco market that are viable investment opportunities.\n",
    "\n",
    "## Instructions\n",
    "\n",
    "Use the `san_francisco_housing.ipynb` notebook to visualize and analyze the real-estate data.\n",
    "\n",
    "Note that this assignment requires you to create a visualization by using hvPlot and GeoViews. Additionally, you need to read the `sfo_neighborhoods_census_data.csv` file from the `Resources` folder into the notebook and create the DataFrame that you’ll use in the analysis.\n",
    "\n",
    "The main task in this Challenge is to visualize and analyze the real-estate data in your Jupyter notebook. Use the `san_francisco_housing.ipynb` notebook to complete the following tasks:\n",
    "\n",
    "* Calculate and plot the housing units per year.\n",
    "\n",
    "* Calculate and plot the average prices per square foot.\n",
    "\n",
    "* Compare the average prices by neighborhood.\n",
    "\n",
    "* Build an interactive neighborhood map.\n",
    "\n",
    "* Compose your data story.\n",
    "\n",
    "### Calculate and Plot the Housing Units per Year\n",
    "\n",
    "For this part of the assignment, use numerical and visual aggregation to calculate the number of housing units per year, and then visualize the results as a bar chart. To do so, complete the following steps:\n",
    "\n",
    "1. Use the `groupby` function to group the data by year. Aggregate the results by the `mean` of the groups.\n",
    "\n",
    "2. Use the `hvplot` function to plot the `housing_units_by_year` DataFrame as a bar chart. Make the x-axis represent the `year` and the y-axis represent the `housing_units`.\n",
    "\n",
    "3. Style and format the line plot to ensure a professionally styled visualization.\n",
    "\n",
    "4. Note that your resulting plot should appear similar to the following image:\n",
    "\n",
    "![A screenshot depicts an example of the resulting bar chart.](Images/zoomed-housing-units-by-year.png)\n",
    "\n",
    "5. Answer the following question:\n",
    "\n",
    "    * What’s the overall trend in housing units over the period that you’re analyzing?\n",
    "\n",
    "### Calculate and Plot the Average Sale Prices per Square Foot\n",
    "\n",
    "For this part of the assignment, use numerical and visual aggregation to calculate the average prices per square foot, and then visualize the results as a bar chart. To do so, complete the following steps:\n",
    "\n",
    "1. Group the data by year, and then average the results. What’s the lowest gross rent that’s reported for the years that the DataFrame includes?\n",
    "\n",
    "2. Create a new DataFrame named `prices_square_foot_by_year` by filtering out the “housing_units” column. The new DataFrame should include the averages per year for only the sale price per square foot and the gross rent.\n",
    "\n",
    "3. Use hvPlot to plot the `prices_square_foot_by_year` DataFrame as a line plot.\n",
    "\n",
    "    > **Hint** This single plot will include lines for both `sale_price_sqr_foot` and `gross_rent`.\n",
    "\n",
    "4. Style and format the line plot to ensure a professionally styled visualization.\n",
    "\n",
    "5. Note that your resulting plot should appear similar to the following image:\n",
    "\n",
    "![A screenshot depicts an example of the resulting plot.](Images/avg-sale-px-sq-foot-gross-rent.png)\n",
    "\n",
    "6. Use both the `prices_square_foot_by_year` DataFrame and interactive plots to answer the following questions:\n",
    "\n",
    "    * Did any year experience a drop in the average sale price per square foot compared to the previous year?\n",
    "\n",
    "    * If so, did the gross rent increase or decrease during that year?\n",
    "\n",
    "### Compare the Average Sale Prices by Neighborhood\n",
    "\n",
    "For this part of the assignment, use interactive visualizations and widgets to explore the average sale price per square foot by neighborhood. To do so, complete the following steps:\n",
    "\n",
    "1. Create a new DataFrame that groups the original DataFrame by year and neighborhood. Aggregate the results by the `mean` of the groups.\n",
    "\n",
    "2. Filter out the “housing_units” column to create a DataFrame that includes only the `sale_price_sqr_foot` and `gross_rent` averages per year.\n",
    "\n",
    "3. Create an interactive line plot with hvPlot that visualizes both `sale_price_sqr_foot` and `gross_rent`. Set the x-axis parameter to the year (`x=\"year\"`). Use the `groupby` parameter to create an interactive widget for `neighborhood`.\n",
    "\n",
    "4. Style and format the line plot to ensure a professionally styled visualization.\n",
    "\n",
    "5. Note that your resulting plot should appear similar to the following image:\n",
    "\n",
    "![A screenshot depicts an example of the resulting plot.](Images/pricing-info-by-neighborhood.png)\n",
    "\n",
    "6. Use the interactive visualization to answer the following question:\n",
    "\n",
    "    * For the Anza Vista neighborhood, is the average sale price per square foot for 2016 more or less than the price that’s listed for 2012? \n",
    "\n",
    "### Build an Interactive Neighborhood Map\n",
    "\n",
    "For this part of the assignment, explore the geospatial relationships in the data by using interactive visualizations with hvPlot and GeoViews. To build your map, use the `sfo_data_df` DataFrame (created during the initial import), which includes the neighborhood location data with the average prices. To do all this, complete the following steps:\n",
    "\n",
    "1. Read the `neighborhood_coordinates.csv` file from the `Resources` folder into the notebook, and create a DataFrame named `neighborhood_locations_df`. Be sure to set the `index_col` of the DataFrame as “Neighborhood”.\n",
    "\n",
    "2. Using the original `sfo_data_df` Dataframe, create a DataFrame named `all_neighborhood_info_df` that groups the data by neighborhood. Aggregate the results by the `mean` of the group.\n",
    "\n",
    "3. Review the two code cells that concatenate the `neighborhood_locations_df` DataFrame with the `all_neighborhood_info_df` DataFrame. Note that the first cell uses the [Pandas concat function](https://pandas.pydata.org/pandas-docs/stable/reference/api/pandas.concat.html) to create a DataFrame named `all_neighborhoods_df`. The second cell cleans the data and sets the “Neighborhood” column. Be sure to run these cells to create the `all_neighborhoods_df` DataFrame, which you’ll need to create the geospatial visualization.\n",
    "\n",
    "4. Using hvPlot with GeoViews enabled, create a `points` plot for the `all_neighborhoods_df` DataFrame. Be sure to do the following:\n",
    "\n",
    "    * Set the `geo` parameter to True.\n",
    "    * Set the `size` parameter to “sale_price_sqr_foot”.\n",
    "    * Set the `color` parameter to “gross_rent”.\n",
    "    * Set the `frame_width` parameter to 700.\n",
    "    * Set the `frame_height` parameter to 500.\n",
    "    * Include a descriptive title.\n",
    "\n",
    "Note that your resulting plot should appear similar to the following image:\n",
    "\n",
    "![A screenshot depicts an example of a scatter plot created with hvPlot and GeoViews.](Images/6-4-geoviews-plot.png)\n",
    "\n",
    "5. Use the interactive map to answer the following question:\n",
    "\n",
    "    * Which neighborhood has the highest gross rent, and which has the highest sale price per square foot?\n",
    "\n",
    "### Compose Your Data Story\n",
    "\n",
    "Based on the visualizations that you created, answer the following questions:\n",
    "\n",
    "* How does the trend in rental income growth compare to the trend in sales prices? Does this same trend hold true for all the neighborhoods across San Francisco?\n",
    "\n",
    "* What insights can you share with your company about the potential one-click, buy-and-rent strategy that they're pursuing? Do neighborhoods exist that you would suggest for investment, and why?"
   ]
  },
  {
   "cell_type": "code",
   "execution_count": 24,
   "metadata": {},
   "outputs": [],
   "source": [
    "# Import the required libraries and dependencies\n",
    "import pandas as pd\n",
    "import hvplot.pandas\n",
    "from pathlib import Path"
   ]
  },
  {
   "cell_type": "markdown",
   "metadata": {},
   "source": [
    "## Import the data "
   ]
  },
  {
   "cell_type": "code",
   "execution_count": 40,
   "metadata": {},
   "outputs": [
    {
     "data": {
      "text/html": [
       "<div>\n",
       "<style scoped>\n",
       "    .dataframe tbody tr th:only-of-type {\n",
       "        vertical-align: middle;\n",
       "    }\n",
       "\n",
       "    .dataframe tbody tr th {\n",
       "        vertical-align: top;\n",
       "    }\n",
       "\n",
       "    .dataframe thead th {\n",
       "        text-align: right;\n",
       "    }\n",
       "</style>\n",
       "<table border=\"1\" class=\"dataframe\">\n",
       "  <thead>\n",
       "    <tr style=\"text-align: right;\">\n",
       "      <th></th>\n",
       "      <th>year</th>\n",
       "      <th>neighborhood</th>\n",
       "      <th>sale_price_sqr_foot</th>\n",
       "      <th>housing_units</th>\n",
       "      <th>gross_rent</th>\n",
       "    </tr>\n",
       "  </thead>\n",
       "  <tbody>\n",
       "    <tr>\n",
       "      <th>0</th>\n",
       "      <td>2010</td>\n",
       "      <td>Alamo Square</td>\n",
       "      <td>291.182945</td>\n",
       "      <td>372560</td>\n",
       "      <td>1239</td>\n",
       "    </tr>\n",
       "    <tr>\n",
       "      <th>1</th>\n",
       "      <td>2010</td>\n",
       "      <td>Anza Vista</td>\n",
       "      <td>267.932583</td>\n",
       "      <td>372560</td>\n",
       "      <td>1239</td>\n",
       "    </tr>\n",
       "    <tr>\n",
       "      <th>2</th>\n",
       "      <td>2010</td>\n",
       "      <td>Bayview</td>\n",
       "      <td>170.098665</td>\n",
       "      <td>372560</td>\n",
       "      <td>1239</td>\n",
       "    </tr>\n",
       "    <tr>\n",
       "      <th>3</th>\n",
       "      <td>2010</td>\n",
       "      <td>Buena Vista Park</td>\n",
       "      <td>347.394919</td>\n",
       "      <td>372560</td>\n",
       "      <td>1239</td>\n",
       "    </tr>\n",
       "    <tr>\n",
       "      <th>4</th>\n",
       "      <td>2010</td>\n",
       "      <td>Central Richmond</td>\n",
       "      <td>319.027623</td>\n",
       "      <td>372560</td>\n",
       "      <td>1239</td>\n",
       "    </tr>\n",
       "  </tbody>\n",
       "</table>\n",
       "</div>"
      ],
      "text/plain": [
       "   year      neighborhood  sale_price_sqr_foot  housing_units  gross_rent\n",
       "0  2010      Alamo Square           291.182945         372560        1239\n",
       "1  2010        Anza Vista           267.932583         372560        1239\n",
       "2  2010           Bayview           170.098665         372560        1239\n",
       "3  2010  Buena Vista Park           347.394919         372560        1239\n",
       "4  2010  Central Richmond           319.027623         372560        1239"
      ]
     },
     "metadata": {},
     "output_type": "display_data"
    },
    {
     "data": {
      "text/html": [
       "<div>\n",
       "<style scoped>\n",
       "    .dataframe tbody tr th:only-of-type {\n",
       "        vertical-align: middle;\n",
       "    }\n",
       "\n",
       "    .dataframe tbody tr th {\n",
       "        vertical-align: top;\n",
       "    }\n",
       "\n",
       "    .dataframe thead th {\n",
       "        text-align: right;\n",
       "    }\n",
       "</style>\n",
       "<table border=\"1\" class=\"dataframe\">\n",
       "  <thead>\n",
       "    <tr style=\"text-align: right;\">\n",
       "      <th></th>\n",
       "      <th>year</th>\n",
       "      <th>neighborhood</th>\n",
       "      <th>sale_price_sqr_foot</th>\n",
       "      <th>housing_units</th>\n",
       "      <th>gross_rent</th>\n",
       "    </tr>\n",
       "  </thead>\n",
       "  <tbody>\n",
       "    <tr>\n",
       "      <th>392</th>\n",
       "      <td>2016</td>\n",
       "      <td>Telegraph Hill</td>\n",
       "      <td>903.049771</td>\n",
       "      <td>384242</td>\n",
       "      <td>4390</td>\n",
       "    </tr>\n",
       "    <tr>\n",
       "      <th>393</th>\n",
       "      <td>2016</td>\n",
       "      <td>Twin Peaks</td>\n",
       "      <td>970.085470</td>\n",
       "      <td>384242</td>\n",
       "      <td>4390</td>\n",
       "    </tr>\n",
       "    <tr>\n",
       "      <th>394</th>\n",
       "      <td>2016</td>\n",
       "      <td>Van Ness/ Civic Center</td>\n",
       "      <td>552.602567</td>\n",
       "      <td>384242</td>\n",
       "      <td>4390</td>\n",
       "    </tr>\n",
       "    <tr>\n",
       "      <th>395</th>\n",
       "      <td>2016</td>\n",
       "      <td>Visitacion Valley</td>\n",
       "      <td>328.319007</td>\n",
       "      <td>384242</td>\n",
       "      <td>4390</td>\n",
       "    </tr>\n",
       "    <tr>\n",
       "      <th>396</th>\n",
       "      <td>2016</td>\n",
       "      <td>Westwood Park</td>\n",
       "      <td>631.195426</td>\n",
       "      <td>384242</td>\n",
       "      <td>4390</td>\n",
       "    </tr>\n",
       "  </tbody>\n",
       "</table>\n",
       "</div>"
      ],
      "text/plain": [
       "     year            neighborhood  sale_price_sqr_foot  housing_units  \\\n",
       "392  2016          Telegraph Hill           903.049771         384242   \n",
       "393  2016              Twin Peaks           970.085470         384242   \n",
       "394  2016  Van Ness/ Civic Center           552.602567         384242   \n",
       "395  2016       Visitacion Valley           328.319007         384242   \n",
       "396  2016           Westwood Park           631.195426         384242   \n",
       "\n",
       "     gross_rent  \n",
       "392        4390  \n",
       "393        4390  \n",
       "394        4390  \n",
       "395        4390  \n",
       "396        4390  "
      ]
     },
     "metadata": {},
     "output_type": "display_data"
    }
   ],
   "source": [
    "# Using the read_csv function and Path module, create a DataFrame \n",
    "# by importing the sfo_neighborhoods_census_data.csv file from the Resources folder\n",
    "# sfo_data_df = # YOUR CODE HERE\n",
    "sfo_data_df = pd.read_csv(Path('./Resources/sfo_neighborhoods_census_data.csv'))\n",
    "\n",
    "# Review the first and last five rows of the DataFr\n",
    "display(sfo_data_df.head())\n",
    "display(sfo_data_df.tail())"
   ]
  },
  {
   "cell_type": "markdown",
   "metadata": {},
   "source": [
    "---"
   ]
  },
  {
   "cell_type": "markdown",
   "metadata": {},
   "source": [
    "## Calculate and Plot the Housing Units per Year\n",
    "\n",
    "For this part of the assignment, use numerical and visual aggregation to calculate the number of housing units per year, and then visualize the results as a bar chart. To do so, complete the following steps:\n",
    "\n",
    "1. Use the `groupby` function to group the data by year. Aggregate the results by the `mean` of the groups.\n",
    "\n",
    "2. Use the `hvplot` function to plot the `housing_units_by_year` DataFrame as a bar chart. Make the x-axis represent the `year` and the y-axis represent the `housing_units`.\n",
    "\n",
    "3. Style and format the line plot to ensure a professionally styled visualization.\n",
    "\n",
    "4. Note that your resulting plot should appear similar to the following image:\n",
    "\n",
    "![A screenshot depicts an example of the resulting bar chart.](Images/zoomed-housing-units-by-year.png)\n",
    "\n",
    "5. Answer the following question:\n",
    "\n",
    "    * What’s the overall trend in housing units over the period that you’re analyzing?\n",
    "\n"
   ]
  },
  {
   "cell_type": "markdown",
   "metadata": {},
   "source": [
    "### Step 1: Use the `groupby` function to group the data by year. Aggregate the results by the `mean` of the groups."
   ]
  },
  {
   "cell_type": "code",
   "execution_count": 29,
   "metadata": {},
   "outputs": [
    {
     "name": "stdout",
     "output_type": "stream",
     "text": [
      "      sale_price_sqr_foot  housing_units  gross_rent\n",
      "year                                                \n",
      "2010           369.344353       372560.0      1239.0\n",
      "2011           341.903429       374507.0      1530.0\n",
      "2012           399.389968       376454.0      2324.0\n",
      "2013           483.600304       378401.0      2971.0\n",
      "2014           556.277273       380348.0      3528.0\n",
      "2015           632.540352       382295.0      3739.0\n",
      "2016           697.643709       384242.0      4390.0\n"
     ]
    }
   ],
   "source": [
    "# Create a numerical aggregation that groups the data by the year and then averages the results.\n",
    "housing_units_by_year = sfo_data_df.groupby('year').mean()\n",
    "\n",
    "# Review the DataFrame\n",
    "# YOUR CODE HERE\n",
    "print(housing_units_by_year)"
   ]
  },
  {
   "cell_type": "markdown",
   "metadata": {},
   "source": [
    "### Step 2: Use the `hvplot` function to plot the `housing_units_by_year` DataFrame as a bar chart. Make the x-axis represent the `year` and the y-axis represent the `housing_units`.\n",
    "\n",
    "### Step 3: Style and format the line plot to ensure a professionally styled visualization."
   ]
  },
  {
   "cell_type": "code",
   "execution_count": 41,
   "metadata": {},
   "outputs": [
    {
     "data": {},
     "metadata": {},
     "output_type": "display_data"
    },
    {
     "data": {
      "application/vnd.holoviews_exec.v0+json": "",
      "text/html": [
       "<div id='1501'>\n",
       "\n",
       "\n",
       "\n",
       "\n",
       "\n",
       "  <div class=\"bk-root\" id=\"c942dea7-b36b-4d56-97de-155bcfc88151\" data-root-id=\"1501\"></div>\n",
       "</div>\n",
       "<script type=\"application/javascript\">(function(root) {\n",
       "  function embed_document(root) {\n",
       "    var docs_json = {\"e7ac676a-cfac-4832-9e0a-2e76f736d320\":{\"defs\":[{\"extends\":null,\"module\":null,\"name\":\"ReactiveHTML1\",\"overrides\":[],\"properties\":[]},{\"extends\":null,\"module\":null,\"name\":\"FlexBox1\",\"overrides\":[],\"properties\":[{\"default\":\"flex-start\",\"kind\":null,\"name\":\"align_content\"},{\"default\":\"flex-start\",\"kind\":null,\"name\":\"align_items\"},{\"default\":\"row\",\"kind\":null,\"name\":\"flex_direction\"},{\"default\":\"wrap\",\"kind\":null,\"name\":\"flex_wrap\"},{\"default\":\"flex-start\",\"kind\":null,\"name\":\"justify_content\"}]},{\"extends\":null,\"module\":null,\"name\":\"GridStack1\",\"overrides\":[],\"properties\":[{\"default\":\"warn\",\"kind\":null,\"name\":\"mode\"},{\"default\":null,\"kind\":null,\"name\":\"ncols\"},{\"default\":null,\"kind\":null,\"name\":\"nrows\"},{\"default\":true,\"kind\":null,\"name\":\"allow_resize\"},{\"default\":true,\"kind\":null,\"name\":\"allow_drag\"},{\"default\":[],\"kind\":null,\"name\":\"state\"}]},{\"extends\":null,\"module\":null,\"name\":\"click1\",\"overrides\":[],\"properties\":[{\"default\":\"\",\"kind\":null,\"name\":\"terminal_output\"},{\"default\":\"\",\"kind\":null,\"name\":\"debug_name\"},{\"default\":0,\"kind\":null,\"name\":\"clears\"}]},{\"extends\":null,\"module\":null,\"name\":\"TemplateActions1\",\"overrides\":[],\"properties\":[{\"default\":0,\"kind\":null,\"name\":\"open_modal\"},{\"default\":0,\"kind\":null,\"name\":\"close_modal\"}]},{\"extends\":null,\"module\":null,\"name\":\"MaterialTemplateActions1\",\"overrides\":[],\"properties\":[{\"default\":0,\"kind\":null,\"name\":\"open_modal\"},{\"default\":0,\"kind\":null,\"name\":\"close_modal\"}]}],\"roots\":{\"references\":[{\"attributes\":{},\"id\":\"1526\",\"type\":\"ResetTool\"},{\"attributes\":{},\"id\":\"1516\",\"type\":\"CategoricalTicker\"},{\"attributes\":{\"callback\":null,\"renderers\":[{\"id\":\"1541\"}],\"tags\":[\"hv_created\"],\"tooltips\":[[\"year\",\"@{year}\"],[\"housing_units\",\"@{housing_units}\"]]},\"id\":\"1505\",\"type\":\"HoverTool\"},{\"attributes\":{},\"id\":\"1550\",\"type\":\"AllLabels\"},{\"attributes\":{\"axis_label\":\"year\",\"coordinates\":null,\"formatter\":{\"id\":\"1546\"},\"group\":null,\"major_label_policy\":{\"id\":\"1547\"},\"ticker\":{\"id\":\"1516\"}},\"id\":\"1515\",\"type\":\"CategoricalAxis\"},{\"attributes\":{\"axis\":{\"id\":\"1515\"},\"coordinates\":null,\"grid_line_color\":null,\"group\":null,\"ticker\":null},\"id\":\"1517\",\"type\":\"Grid\"},{\"attributes\":{},\"id\":\"1547\",\"type\":\"AllLabels\"},{\"attributes\":{},\"id\":\"1513\",\"type\":\"LinearScale\"},{\"attributes\":{},\"id\":\"1511\",\"type\":\"CategoricalScale\"},{\"attributes\":{\"margin\":[5,5,5,5],\"name\":\"HSpacer02698\",\"sizing_mode\":\"stretch_width\"},\"id\":\"1571\",\"type\":\"Spacer\"},{\"attributes\":{\"below\":[{\"id\":\"1515\"}],\"center\":[{\"id\":\"1517\"},{\"id\":\"1521\"}],\"height\":300,\"left\":[{\"id\":\"1518\"}],\"margin\":[5,5,5,5],\"min_border_bottom\":10,\"min_border_left\":10,\"min_border_right\":10,\"min_border_top\":10,\"renderers\":[{\"id\":\"1541\"}],\"sizing_mode\":\"fixed\",\"title\":{\"id\":\"1507\"},\"toolbar\":{\"id\":\"1528\"},\"width\":700,\"x_range\":{\"id\":\"1503\"},\"x_scale\":{\"id\":\"1511\"},\"y_range\":{\"id\":\"1504\"},\"y_scale\":{\"id\":\"1513\"}},\"id\":\"1506\",\"subtype\":\"Figure\",\"type\":\"Plot\"},{\"attributes\":{\"margin\":[5,5,5,5],\"name\":\"HSpacer02697\",\"sizing_mode\":\"stretch_width\"},\"id\":\"1502\",\"type\":\"Spacer\"},{\"attributes\":{\"children\":[{\"id\":\"1502\"},{\"id\":\"1506\"},{\"id\":\"1571\"}],\"margin\":[0,0,0,0],\"name\":\"Row02693\",\"tags\":[\"embedded\"]},\"id\":\"1501\",\"type\":\"Row\"},{\"attributes\":{\"coordinates\":null,\"group\":null,\"text_color\":\"black\",\"text_font_size\":\"12pt\"},\"id\":\"1507\",\"type\":\"Title\"},{\"attributes\":{\"fill_alpha\":{\"value\":0.1},\"fill_color\":{\"value\":\"#30a2da\"},\"hatch_alpha\":{\"value\":0.1},\"hatch_color\":{\"value\":\"#30a2da\"},\"line_alpha\":{\"value\":0.1},\"top\":{\"field\":\"housing_units\"},\"width\":{\"value\":0.8},\"x\":{\"field\":\"year\"}},\"id\":\"1539\",\"type\":\"VBar\"},{\"attributes\":{},\"id\":\"1519\",\"type\":\"BasicTicker\"},{\"attributes\":{\"data\":{\"housing_units\":{\"__ndarray__\":\"AAAAAEC9FkEAAAAArNsWQQAAAAAY+hZBAAAAAIQYF0EAAAAA8DYXQQAAAABcVRdBAAAAAMhzF0E=\",\"dtype\":\"float64\",\"order\":\"little\",\"shape\":[7]},\"year\":[\"2010\",\"2011\",\"2012\",\"2013\",\"2014\",\"2015\",\"2016\"]},\"selected\":{\"id\":\"1536\"},\"selection_policy\":{\"id\":\"1559\"}},\"id\":\"1535\",\"type\":\"ColumnDataSource\"},{\"attributes\":{\"fill_color\":{\"value\":\"#30a2da\"},\"hatch_color\":{\"value\":\"#30a2da\"},\"top\":{\"field\":\"housing_units\"},\"width\":{\"value\":0.8},\"x\":{\"field\":\"year\"}},\"id\":\"1538\",\"type\":\"VBar\"},{\"attributes\":{\"axis\":{\"id\":\"1518\"},\"coordinates\":null,\"dimension\":1,\"grid_line_color\":null,\"group\":null,\"ticker\":null},\"id\":\"1521\",\"type\":\"Grid\"},{\"attributes\":{},\"id\":\"1559\",\"type\":\"UnionRenderers\"},{\"attributes\":{\"bottom\":{\"value\":0},\"fill_alpha\":{\"value\":1.0},\"fill_color\":{\"value\":\"#30a2da\"},\"hatch_alpha\":{\"value\":1.0},\"hatch_color\":{\"value\":\"#30a2da\"},\"hatch_scale\":{\"value\":12.0},\"hatch_weight\":{\"value\":1.0},\"line_alpha\":{\"value\":1.0},\"line_cap\":{\"value\":\"butt\"},\"line_color\":{\"value\":\"black\"},\"line_dash\":{\"value\":[]},\"line_dash_offset\":{\"value\":0},\"line_join\":{\"value\":\"bevel\"},\"line_width\":{\"value\":1},\"top\":{\"field\":\"housing_units\"},\"width\":{\"value\":0.8},\"x\":{\"field\":\"year\"}},\"id\":\"1543\",\"type\":\"VBar\"},{\"attributes\":{},\"id\":\"1524\",\"type\":\"WheelZoomTool\"},{\"attributes\":{\"factors\":[\"2010\",\"2011\",\"2012\",\"2013\",\"2014\",\"2015\",\"2016\"],\"tags\":[[[\"year\",\"year\",null]]]},\"id\":\"1503\",\"type\":\"FactorRange\"},{\"attributes\":{\"fill_alpha\":{\"value\":0.2},\"fill_color\":{\"value\":\"#30a2da\"},\"hatch_alpha\":{\"value\":0.2},\"hatch_color\":{\"value\":\"#30a2da\"},\"line_alpha\":{\"value\":0.2},\"top\":{\"field\":\"housing_units\"},\"width\":{\"value\":0.8},\"x\":{\"field\":\"year\"}},\"id\":\"1540\",\"type\":\"VBar\"},{\"attributes\":{\"source\":{\"id\":\"1535\"}},\"id\":\"1542\",\"type\":\"CDSView\"},{\"attributes\":{\"overlay\":{\"id\":\"1527\"}},\"id\":\"1525\",\"type\":\"BoxZoomTool\"},{\"attributes\":{\"coordinates\":null,\"data_source\":{\"id\":\"1535\"},\"glyph\":{\"id\":\"1538\"},\"group\":null,\"hover_glyph\":null,\"muted_glyph\":{\"id\":\"1540\"},\"nonselection_glyph\":{\"id\":\"1539\"},\"selection_glyph\":{\"id\":\"1543\"},\"view\":{\"id\":\"1542\"}},\"id\":\"1541\",\"type\":\"GlyphRenderer\"},{\"attributes\":{\"axis_label\":\"housing_units\",\"coordinates\":null,\"formatter\":{\"id\":\"1544\"},\"group\":null,\"major_label_policy\":{\"id\":\"1550\"},\"ticker\":{\"id\":\"1519\"}},\"id\":\"1518\",\"type\":\"LinearAxis\"},{\"attributes\":{},\"id\":\"1536\",\"type\":\"Selection\"},{\"attributes\":{\"end\":390000,\"reset_end\":390000,\"reset_start\":360000,\"start\":360000,\"tags\":[[[\"housing_units\",\"housing_units\",null]]]},\"id\":\"1504\",\"type\":\"Range1d\"},{\"attributes\":{\"bottom_units\":\"screen\",\"coordinates\":null,\"fill_alpha\":0.5,\"fill_color\":\"lightgrey\",\"group\":null,\"left_units\":\"screen\",\"level\":\"overlay\",\"line_alpha\":1.0,\"line_color\":\"black\",\"line_dash\":[4,4],\"line_width\":2,\"right_units\":\"screen\",\"syncable\":false,\"top_units\":\"screen\"},\"id\":\"1527\",\"type\":\"BoxAnnotation\"},{\"attributes\":{},\"id\":\"1523\",\"type\":\"PanTool\"},{\"attributes\":{},\"id\":\"1546\",\"type\":\"CategoricalTickFormatter\"},{\"attributes\":{},\"id\":\"1522\",\"type\":\"SaveTool\"},{\"attributes\":{\"tools\":[{\"id\":\"1505\"},{\"id\":\"1522\"},{\"id\":\"1523\"},{\"id\":\"1524\"},{\"id\":\"1525\"},{\"id\":\"1526\"}]},\"id\":\"1528\",\"type\":\"Toolbar\"},{\"attributes\":{\"format\":\"%.0f\"},\"id\":\"1544\",\"type\":\"PrintfTickFormatter\"}],\"root_ids\":[\"1501\"]},\"title\":\"Bokeh Application\",\"version\":\"2.4.2\"}};\n",
       "    var render_items = [{\"docid\":\"e7ac676a-cfac-4832-9e0a-2e76f736d320\",\"root_ids\":[\"1501\"],\"roots\":{\"1501\":\"c942dea7-b36b-4d56-97de-155bcfc88151\"}}];\n",
       "    root.Bokeh.embed.embed_items_notebook(docs_json, render_items);\n",
       "  }\n",
       "  if (root.Bokeh !== undefined && root.Bokeh.Panel !== undefined) {\n",
       "    embed_document(root);\n",
       "  } else {\n",
       "    var attempts = 0;\n",
       "    var timer = setInterval(function(root) {\n",
       "      if (root.Bokeh !== undefined && root.Bokeh.Panel !== undefined) {\n",
       "        clearInterval(timer);\n",
       "        embed_document(root);\n",
       "      } else if (document.readyState == \"complete\") {\n",
       "        attempts++;\n",
       "        if (attempts > 200) {\n",
       "          clearInterval(timer);\n",
       "          console.log(\"Bokeh: ERROR: Unable to run BokehJS code because BokehJS library is missing\");\n",
       "        }\n",
       "      }\n",
       "    }, 25, root)\n",
       "  }\n",
       "})(window);</script>"
      ],
      "text/plain": [
       ":Bars   [year]   (housing_units)"
      ]
     },
     "execution_count": 41,
     "metadata": {
      "application/vnd.holoviews_exec.v0+json": {
       "id": "1501"
      }
     },
     "output_type": "execute_result"
    }
   ],
   "source": [
    "# Create a visual aggregation explore the housing units by year\n",
    "# YOUR CODE HERE\n",
    "housing_units_by_year.hvplot.bar(y='housing_units',\n",
    "    x='year', ylim=(360000,390000)).opts(yformatter=\"%.0f\")"
   ]
  },
  {
   "cell_type": "code",
   "execution_count": null,
   "metadata": {
    "tags": []
   },
   "outputs": [],
   "source": []
  },
  {
   "cell_type": "markdown",
   "metadata": {},
   "source": [
    "### Step 5: Answer the following question:"
   ]
  },
  {
   "cell_type": "markdown",
   "metadata": {},
   "source": [
    "**Question:** What is the overall trend in housing_units over the period being analyzed?\n",
    "\n",
    "**Answer:** # YOUR ANSWER HERE"
   ]
  },
  {
   "cell_type": "markdown",
   "metadata": {},
   "source": [
    "---"
   ]
  },
  {
   "cell_type": "markdown",
   "metadata": {},
   "source": [
    "## Calculate and Plot the Average Sale Prices per Square Foot\n",
    "\n",
    "For this part of the assignment, use numerical and visual aggregation to calculate the average prices per square foot, and then visualize the results as a bar chart. To do so, complete the following steps:\n",
    "\n",
    "1. Group the data by year, and then average the results. What’s the lowest gross rent that’s reported for the years that the DataFrame includes?\n",
    "\n",
    "2. Create a new DataFrame named `prices_square_foot_by_year` by filtering out the “housing_units” column. The new DataFrame should include the averages per year for only the sale price per square foot and the gross rent.\n",
    "\n",
    "3. Use hvPlot to plot the `prices_square_foot_by_year` DataFrame as a line plot.\n",
    "\n",
    "    > **Hint** This single plot will include lines for both `sale_price_sqr_foot` and `gross_rent`.\n",
    "\n",
    "4. Style and format the line plot to ensure a professionally styled visualization.\n",
    "\n",
    "5. Note that your resulting plot should appear similar to the following image:\n",
    "\n",
    "![A screenshot depicts an example of the resulting plot.](Images/avg-sale-px-sq-foot-gross-rent.png)\n",
    "\n",
    "6. Use both the `prices_square_foot_by_year` DataFrame and interactive plots to answer the following questions:\n",
    "\n",
    "    * Did any year experience a drop in the average sale price per square foot compared to the previous year?\n",
    "\n",
    "    * If so, did the gross rent increase or decrease during that year?\n",
    "\n"
   ]
  },
  {
   "cell_type": "markdown",
   "metadata": {},
   "source": [
    "### Step 1: Group the data by year, and then average the results."
   ]
  },
  {
   "cell_type": "code",
   "execution_count": 33,
   "metadata": {},
   "outputs": [
    {
     "name": "stdout",
     "output_type": "stream",
     "text": [
      "      sale_price_sqr_foot  housing_units  gross_rent\n",
      "year                                                \n",
      "2010           369.344353       372560.0      1239.0\n",
      "2011           341.903429       374507.0      1530.0\n",
      "2012           399.389968       376454.0      2324.0\n",
      "2013           483.600304       378401.0      2971.0\n",
      "2014           556.277273       380348.0      3528.0\n",
      "2015           632.540352       382295.0      3739.0\n",
      "2016           697.643709       384242.0      4390.0\n"
     ]
    }
   ],
   "source": [
    "# Create a numerical aggregation by grouping the data by year and averaging the results\n",
    "# prices_square_foot_by_year = # YOUR CODE HERE\n",
    "prices_square_foot_by_year = sfo_data_df.groupby(sfo_data_df['year']).mean()\n",
    "\n",
    "# Review the resulting DataFrame\n",
    "# YO\n",
    "print(prices_square_foot_by_year)"
   ]
  },
  {
   "cell_type": "markdown",
   "metadata": {},
   "source": [
    "**Question:** What is the lowest gross rent reported for the years included in the DataFrame?\n",
    "\n",
    "**Answer:** # YOUR ANSWER HERE 2010 was the lowest yr of gross rents. "
   ]
  },
  {
   "cell_type": "markdown",
   "metadata": {},
   "source": [
    "### Step 2: Create a new DataFrame named `prices_square_foot_by_year` by filtering out the “housing_units” column. The new DataFrame should include the averages per year for only the sale price per square foot and the gross rent."
   ]
  },
  {
   "cell_type": "code",
   "execution_count": 34,
   "metadata": {},
   "outputs": [
    {
     "name": "stdout",
     "output_type": "stream",
     "text": [
      "      sale_price_sqr_foot  gross_rent\n",
      "year                                 \n",
      "2010           369.344353      1239.0\n",
      "2011           341.903429      1530.0\n",
      "2012           399.389968      2324.0\n",
      "2013           483.600304      2971.0\n",
      "2014           556.277273      3528.0\n",
      "2015           632.540352      3739.0\n",
      "2016           697.643709      4390.0\n"
     ]
    }
   ],
   "source": [
    "# Filter out the housing_units column, creating a new DataFrame \n",
    "# Keep only sale_price_sqr_foot and gross_rent averages per year\n",
    "# prices_square_foot_by_year = # YOUR CODE HERE\n",
    "prices_square_foot_by_year = prices_square_foot_by_year[['sale_price_sqr_foot', 'gross_rent']]\n",
    "# Review the DataFrame\n",
    "# YOUR CODE HERE\n",
    "print(prices_square_foot_by_year)"
   ]
  },
  {
   "cell_type": "markdown",
   "metadata": {},
   "source": [
    "### Step 3: Use hvPlot to plot the `prices_square_foot_by_year` DataFrame as a line plot.\n",
    "\n",
    "> **Hint** This single plot will include lines for both `sale_price_sqr_foot` and `gross_rent`\n",
    "\n",
    "### Step 4: Style and format the line plot to ensure a professionally styled visualization.\n"
   ]
  },
  {
   "cell_type": "code",
   "execution_count": 35,
   "metadata": {},
   "outputs": [
    {
     "data": {},
     "metadata": {},
     "output_type": "display_data"
    },
    {
     "data": {
      "application/vnd.holoviews_exec.v0+json": "",
      "text/html": [
       "<div id='1246'>\n",
       "\n",
       "\n",
       "\n",
       "\n",
       "\n",
       "  <div class=\"bk-root\" id=\"1095dbbc-0445-47b5-8bee-16c956801f4b\" data-root-id=\"1246\"></div>\n",
       "</div>\n",
       "<script type=\"application/javascript\">(function(root) {\n",
       "  function embed_document(root) {\n",
       "    var docs_json = {\"1f880184-bb39-4619-acde-fd714a47c838\":{\"defs\":[{\"extends\":null,\"module\":null,\"name\":\"ReactiveHTML1\",\"overrides\":[],\"properties\":[]},{\"extends\":null,\"module\":null,\"name\":\"FlexBox1\",\"overrides\":[],\"properties\":[{\"default\":\"flex-start\",\"kind\":null,\"name\":\"align_content\"},{\"default\":\"flex-start\",\"kind\":null,\"name\":\"align_items\"},{\"default\":\"row\",\"kind\":null,\"name\":\"flex_direction\"},{\"default\":\"wrap\",\"kind\":null,\"name\":\"flex_wrap\"},{\"default\":\"flex-start\",\"kind\":null,\"name\":\"justify_content\"}]},{\"extends\":null,\"module\":null,\"name\":\"GridStack1\",\"overrides\":[],\"properties\":[{\"default\":\"warn\",\"kind\":null,\"name\":\"mode\"},{\"default\":null,\"kind\":null,\"name\":\"ncols\"},{\"default\":null,\"kind\":null,\"name\":\"nrows\"},{\"default\":true,\"kind\":null,\"name\":\"allow_resize\"},{\"default\":true,\"kind\":null,\"name\":\"allow_drag\"},{\"default\":[],\"kind\":null,\"name\":\"state\"}]},{\"extends\":null,\"module\":null,\"name\":\"click1\",\"overrides\":[],\"properties\":[{\"default\":\"\",\"kind\":null,\"name\":\"terminal_output\"},{\"default\":\"\",\"kind\":null,\"name\":\"debug_name\"},{\"default\":0,\"kind\":null,\"name\":\"clears\"}]},{\"extends\":null,\"module\":null,\"name\":\"TemplateActions1\",\"overrides\":[],\"properties\":[{\"default\":0,\"kind\":null,\"name\":\"open_modal\"},{\"default\":0,\"kind\":null,\"name\":\"close_modal\"}]},{\"extends\":null,\"module\":null,\"name\":\"MaterialTemplateActions1\",\"overrides\":[],\"properties\":[{\"default\":0,\"kind\":null,\"name\":\"open_modal\"},{\"default\":0,\"kind\":null,\"name\":\"close_modal\"}]}],\"roots\":{\"references\":[{\"attributes\":{\"axis\":{\"id\":\"1265\"},\"coordinates\":null,\"dimension\":1,\"grid_line_color\":null,\"group\":null,\"ticker\":null},\"id\":\"1268\",\"type\":\"Grid\"},{\"attributes\":{\"margin\":[5,5,5,5],\"name\":\"HSpacer02174\",\"sizing_mode\":\"stretch_width\"},\"id\":\"1439\",\"type\":\"Spacer\"},{\"attributes\":{\"coordinates\":null,\"group\":null,\"text\":\"Average Sale Price per Square Foot and Gross Rent by Year\",\"text_color\":\"black\",\"text_font_size\":\"12pt\"},\"id\":\"1253\",\"type\":\"Title\"},{\"attributes\":{\"line_alpha\":0.2,\"line_color\":\"#fc4f30\",\"line_width\":2,\"x\":{\"field\":\"year\"},\"y\":{\"field\":\"value\"}},\"id\":\"1314\",\"type\":\"Line\"},{\"attributes\":{},\"id\":\"1289\",\"type\":\"Selection\"},{\"attributes\":{\"axis\":{\"id\":\"1261\"},\"coordinates\":null,\"grid_line_color\":null,\"group\":null,\"ticker\":null},\"id\":\"1264\",\"type\":\"Grid\"},{\"attributes\":{\"source\":{\"id\":\"1309\"}},\"id\":\"1316\",\"type\":\"CDSView\"},{\"attributes\":{\"end\":2016.0,\"reset_end\":2016.0,\"reset_start\":2010.0,\"start\":2010.0,\"tags\":[[[\"year\",\"year\",null]]]},\"id\":\"1248\",\"type\":\"Range1d\"},{\"attributes\":{\"above\":[{\"id\":\"1306\"}],\"below\":[{\"id\":\"1261\"}],\"center\":[{\"id\":\"1264\"},{\"id\":\"1268\"}],\"height\":300,\"left\":[{\"id\":\"1265\"}],\"margin\":[5,5,5,5],\"min_border_bottom\":10,\"min_border_left\":10,\"min_border_right\":10,\"min_border_top\":10,\"renderers\":[{\"id\":\"1294\"},{\"id\":\"1315\"}],\"sizing_mode\":\"fixed\",\"title\":{\"id\":\"1253\"},\"toolbar\":{\"id\":\"1275\"},\"width\":700,\"x_range\":{\"id\":\"1248\"},\"x_scale\":{\"id\":\"1257\"},\"y_range\":{\"id\":\"1249\"},\"y_scale\":{\"id\":\"1259\"}},\"id\":\"1252\",\"subtype\":\"Figure\",\"type\":\"Plot\"},{\"attributes\":{\"line_alpha\":0.1,\"line_color\":\"#30a2da\",\"line_width\":2,\"x\":{\"field\":\"year\"},\"y\":{\"field\":\"value\"}},\"id\":\"1292\",\"type\":\"Line\"},{\"attributes\":{\"coordinates\":null,\"data_source\":{\"id\":\"1309\"},\"glyph\":{\"id\":\"1312\"},\"group\":null,\"hover_glyph\":null,\"muted_glyph\":{\"id\":\"1314\"},\"nonselection_glyph\":{\"id\":\"1313\"},\"selection_glyph\":{\"id\":\"1330\"},\"view\":{\"id\":\"1316\"}},\"id\":\"1315\",\"type\":\"GlyphRenderer\"},{\"attributes\":{\"line_alpha\":0.2,\"line_color\":\"#30a2da\",\"line_width\":2,\"x\":{\"field\":\"year\"},\"y\":{\"field\":\"value\"}},\"id\":\"1293\",\"type\":\"Line\"},{\"attributes\":{},\"id\":\"1266\",\"type\":\"BasicTicker\"},{\"attributes\":{\"axis_label\":\"Price ($)\",\"coordinates\":null,\"formatter\":{\"id\":\"1286\"},\"group\":null,\"major_label_policy\":{\"id\":\"1287\"},\"ticker\":{\"id\":\"1266\"}},\"id\":\"1265\",\"type\":\"LinearAxis\"},{\"attributes\":{\"line_alpha\":0.1,\"line_color\":\"#fc4f30\",\"line_width\":2,\"x\":{\"field\":\"year\"},\"y\":{\"field\":\"value\"}},\"id\":\"1313\",\"type\":\"Line\"},{\"attributes\":{},\"id\":\"1286\",\"type\":\"BasicTickFormatter\"},{\"attributes\":{\"label\":{\"value\":\"gross_rent\"},\"renderers\":[{\"id\":\"1315\"}]},\"id\":\"1329\",\"type\":\"LegendItem\"},{\"attributes\":{\"line_color\":\"#fc4f30\",\"line_width\":2,\"x\":{\"field\":\"year\"},\"y\":{\"field\":\"value\"}},\"id\":\"1330\",\"type\":\"Line\"},{\"attributes\":{},\"id\":\"1284\",\"type\":\"AllLabels\"},{\"attributes\":{\"line_color\":\"#30a2da\",\"line_width\":2,\"x\":{\"field\":\"year\"},\"y\":{\"field\":\"value\"}},\"id\":\"1291\",\"type\":\"Line\"},{\"attributes\":{\"coordinates\":null,\"data_source\":{\"id\":\"1288\"},\"glyph\":{\"id\":\"1291\"},\"group\":null,\"hover_glyph\":null,\"muted_glyph\":{\"id\":\"1293\"},\"nonselection_glyph\":{\"id\":\"1292\"},\"selection_glyph\":{\"id\":\"1308\"},\"view\":{\"id\":\"1295\"}},\"id\":\"1294\",\"type\":\"GlyphRenderer\"},{\"attributes\":{},\"id\":\"1283\",\"type\":\"BasicTickFormatter\"},{\"attributes\":{},\"id\":\"1287\",\"type\":\"AllLabels\"},{\"attributes\":{},\"id\":\"1269\",\"type\":\"SaveTool\"},{\"attributes\":{},\"id\":\"1270\",\"type\":\"PanTool\"},{\"attributes\":{\"source\":{\"id\":\"1288\"}},\"id\":\"1295\",\"type\":\"CDSView\"},{\"attributes\":{},\"id\":\"1262\",\"type\":\"BasicTicker\"},{\"attributes\":{},\"id\":\"1271\",\"type\":\"WheelZoomTool\"},{\"attributes\":{},\"id\":\"1303\",\"type\":\"UnionRenderers\"},{\"attributes\":{\"tools\":[{\"id\":\"1250\"},{\"id\":\"1269\"},{\"id\":\"1270\"},{\"id\":\"1271\"},{\"id\":\"1272\"},{\"id\":\"1273\"}]},\"id\":\"1275\",\"type\":\"Toolbar\"},{\"attributes\":{\"line_color\":\"#30a2da\",\"line_width\":2,\"x\":{\"field\":\"year\"},\"y\":{\"field\":\"value\"}},\"id\":\"1308\",\"type\":\"Line\"},{\"attributes\":{\"callback\":null,\"renderers\":[{\"id\":\"1294\"},{\"id\":\"1315\"}],\"tags\":[\"hv_created\"],\"tooltips\":[[\"Variable\",\"@{Variable}\"],[\"year\",\"@{year}\"],[\"value\",\"@{value}\"]]},\"id\":\"1250\",\"type\":\"HoverTool\"},{\"attributes\":{\"overlay\":{\"id\":\"1274\"}},\"id\":\"1272\",\"type\":\"BoxZoomTool\"},{\"attributes\":{},\"id\":\"1326\",\"type\":\"UnionRenderers\"},{\"attributes\":{\"label\":{\"value\":\"sale_price_sqr_foot\"},\"renderers\":[{\"id\":\"1294\"}]},\"id\":\"1307\",\"type\":\"LegendItem\"},{\"attributes\":{},\"id\":\"1257\",\"type\":\"LinearScale\"},{\"attributes\":{},\"id\":\"1273\",\"type\":\"ResetTool\"},{\"attributes\":{},\"id\":\"1310\",\"type\":\"Selection\"},{\"attributes\":{},\"id\":\"1259\",\"type\":\"LinearScale\"},{\"attributes\":{\"data\":{\"Variable\":[\"sale_price_sqr_foot\",\"sale_price_sqr_foot\",\"sale_price_sqr_foot\",\"sale_price_sqr_foot\",\"sale_price_sqr_foot\",\"sale_price_sqr_foot\",\"sale_price_sqr_foot\"],\"value\":{\"__ndarray__\":\"tgKjeIIVd0Dn7CdydF51QGhijk899nhAZhKk2Jo5fkDGKCTbN2KBQPMTFqRSxINATx33UCbNhUA=\",\"dtype\":\"float64\",\"order\":\"little\",\"shape\":[7]},\"year\":[2010,2011,2012,2013,2014,2015,2016]},\"selected\":{\"id\":\"1289\"},\"selection_policy\":{\"id\":\"1303\"}},\"id\":\"1288\",\"type\":\"ColumnDataSource\"},{\"attributes\":{\"end\":4794.80965708199,\"reset_end\":4794.80965708199,\"reset_start\":-62.90622790188365,\"start\":-62.90622790188365,\"tags\":[[[\"value\",\"value\",null]]]},\"id\":\"1249\",\"type\":\"Range1d\"},{\"attributes\":{\"bottom_units\":\"screen\",\"coordinates\":null,\"fill_alpha\":0.5,\"fill_color\":\"lightgrey\",\"group\":null,\"left_units\":\"screen\",\"level\":\"overlay\",\"line_alpha\":1.0,\"line_color\":\"black\",\"line_dash\":[4,4],\"line_width\":2,\"right_units\":\"screen\",\"syncable\":false,\"top_units\":\"screen\"},\"id\":\"1274\",\"type\":\"BoxAnnotation\"},{\"attributes\":{\"children\":[{\"id\":\"1247\"},{\"id\":\"1252\"},{\"id\":\"1439\"}],\"margin\":[0,0,0,0],\"name\":\"Row02169\",\"tags\":[\"embedded\"]},\"id\":\"1246\",\"type\":\"Row\"},{\"attributes\":{\"axis_label\":\"Year\",\"coordinates\":null,\"formatter\":{\"id\":\"1283\"},\"group\":null,\"major_label_policy\":{\"id\":\"1284\"},\"ticker\":{\"id\":\"1262\"}},\"id\":\"1261\",\"type\":\"LinearAxis\"},{\"attributes\":{\"data\":{\"Variable\":[\"gross_rent\",\"gross_rent\",\"gross_rent\",\"gross_rent\",\"gross_rent\",\"gross_rent\",\"gross_rent\"],\"value\":{\"__ndarray__\":\"AAAAAABck0AAAAAAAOiXQAAAAAAAKKJAAAAAAAA2p0AAAAAAAJCrQAAAAAAANq1AAAAAAAAmsUA=\",\"dtype\":\"float64\",\"order\":\"little\",\"shape\":[7]},\"year\":[2010,2011,2012,2013,2014,2015,2016]},\"selected\":{\"id\":\"1310\"},\"selection_policy\":{\"id\":\"1326\"}},\"id\":\"1309\",\"type\":\"ColumnDataSource\"},{\"attributes\":{\"line_color\":\"#fc4f30\",\"line_width\":2,\"x\":{\"field\":\"year\"},\"y\":{\"field\":\"value\"}},\"id\":\"1312\",\"type\":\"Line\"},{\"attributes\":{\"click_policy\":\"mute\",\"coordinates\":null,\"group\":null,\"items\":[{\"id\":\"1307\"},{\"id\":\"1329\"}],\"location\":[0,0],\"orientation\":\"horizontal\",\"title\":\"Variable\"},\"id\":\"1306\",\"type\":\"Legend\"},{\"attributes\":{\"margin\":[5,5,5,5],\"name\":\"HSpacer02173\",\"sizing_mode\":\"stretch_width\"},\"id\":\"1247\",\"type\":\"Spacer\"}],\"root_ids\":[\"1246\"]},\"title\":\"Bokeh Application\",\"version\":\"2.4.2\"}};\n",
       "    var render_items = [{\"docid\":\"1f880184-bb39-4619-acde-fd714a47c838\",\"root_ids\":[\"1246\"],\"roots\":{\"1246\":\"1095dbbc-0445-47b5-8bee-16c956801f4b\"}}];\n",
       "    root.Bokeh.embed.embed_items_notebook(docs_json, render_items);\n",
       "  }\n",
       "  if (root.Bokeh !== undefined && root.Bokeh.Panel !== undefined) {\n",
       "    embed_document(root);\n",
       "  } else {\n",
       "    var attempts = 0;\n",
       "    var timer = setInterval(function(root) {\n",
       "      if (root.Bokeh !== undefined && root.Bokeh.Panel !== undefined) {\n",
       "        clearInterval(timer);\n",
       "        embed_document(root);\n",
       "      } else if (document.readyState == \"complete\") {\n",
       "        attempts++;\n",
       "        if (attempts > 200) {\n",
       "          clearInterval(timer);\n",
       "          console.log(\"Bokeh: ERROR: Unable to run BokehJS code because BokehJS library is missing\");\n",
       "        }\n",
       "      }\n",
       "    }, 25, root)\n",
       "  }\n",
       "})(window);</script>"
      ],
      "text/plain": [
       ":NdOverlay   [Variable]\n",
       "   :Curve   [year]   (value)"
      ]
     },
     "execution_count": 35,
     "metadata": {
      "application/vnd.holoviews_exec.v0+json": {
       "id": "1246"
      }
     },
     "output_type": "execute_result"
    }
   ],
   "source": [
    "# Plot prices_square_foot_by_year. \n",
    "# Inclued labels for the x- and y-axes, and a title.\n",
    "# YOUR CODE HERE\n",
    "prices_square_foot_by_year.hvplot(x='year', y=['sale_price_sqr_foot', 'gross_rent'], \n",
    "                                  kind='line', ylabel='Price ($)', xlabel='Year',\n",
    "                                  title='Average Sale Price per Square Foot and Gross Rent by Year').opts(legend_position='top')"
   ]
  },
  {
   "cell_type": "markdown",
   "metadata": {},
   "source": [
    "### Step 6: Use both the `prices_square_foot_by_year` DataFrame and interactive plots to answer the following questions:"
   ]
  },
  {
   "cell_type": "markdown",
   "metadata": {},
   "source": [
    "**Question:** Did any year experience a drop in the average sale price per square foot compared to the previous year?\n",
    "\n",
    "**Answer:** # YOUR ANSWER HERE"
   ]
  },
  {
   "cell_type": "markdown",
   "metadata": {},
   "source": [
    "**Question:** If so, did the gross rent increase or decrease during that year?\n",
    "\n",
    "**Answer:** # YOUR ANSWER HERE"
   ]
  },
  {
   "cell_type": "markdown",
   "metadata": {},
   "source": [
    "---"
   ]
  },
  {
   "cell_type": "markdown",
   "metadata": {},
   "source": [
    "## Compare the Average Sale Prices by Neighborhood\n",
    "\n",
    "For this part of the assignment, use interactive visualizations and widgets to explore the average sale price per square foot by neighborhood. To do so, complete the following steps:\n",
    "\n",
    "1. Create a new DataFrame that groups the original DataFrame by year and neighborhood. Aggregate the results by the `mean` of the groups.\n",
    "\n",
    "2. Filter out the “housing_units” column to create a DataFrame that includes only the `sale_price_sqr_foot` and `gross_rent` averages per year.\n",
    "\n",
    "3. Create an interactive line plot with hvPlot that visualizes both `sale_price_sqr_foot` and `gross_rent`. Set the x-axis parameter to the year (`x=\"year\"`). Use the `groupby` parameter to create an interactive widget for `neighborhood`.\n",
    "\n",
    "4. Style and format the line plot to ensure a professionally styled visualization.\n",
    "\n",
    "5. Note that your resulting plot should appear similar to the following image:\n",
    "\n",
    "![A screenshot depicts an example of the resulting plot.](Images/pricing-info-by-neighborhood.png)\n",
    "\n",
    "6. Use the interactive visualization to answer the following question:\n",
    "\n",
    "    * For the Anza Vista neighborhood, is the average sale price per square foot for 2016 more or less than the price that’s listed for 2012? \n"
   ]
  },
  {
   "cell_type": "markdown",
   "metadata": {},
   "source": [
    "### Step 1: Create a new DataFrame that groups the original DataFrame by year and neighborhood. Aggregate the results by the `mean` of the groups."
   ]
  },
  {
   "cell_type": "code",
   "execution_count": 42,
   "metadata": {},
   "outputs": [
    {
     "name": "stdout",
     "output_type": "stream",
     "text": [
      "                             sale_price_sqr_foot  housing_units  gross_rent\n",
      "year neighborhood                                                          \n",
      "2010 Alamo Square                     291.182945       372560.0      1239.0\n",
      "     Anza Vista                       267.932583       372560.0      1239.0\n",
      "     Bayview                          170.098665       372560.0      1239.0\n",
      "     Buena Vista Park                 347.394919       372560.0      1239.0\n",
      "     Central Richmond                 319.027623       372560.0      1239.0\n",
      "...                                          ...            ...         ...\n",
      "2016 Telegraph Hill                   903.049771       384242.0      4390.0\n",
      "     Twin Peaks                       970.085470       384242.0      4390.0\n",
      "     Van Ness/ Civic Center           552.602567       384242.0      4390.0\n",
      "     Visitacion Valley                328.319007       384242.0      4390.0\n",
      "     Westwood Park                    631.195426       384242.0      4390.0\n",
      "\n",
      "[397 rows x 3 columns]\n"
     ]
    }
   ],
   "source": [
    "# Group by year and neighborhood and then create a new dataframe of the mean values\n",
    "# prices_by_year_by_neighborhood = # YOUR CODE HERE\n",
    "# prices_by_year_by_neighborhood = housing_units_by_year.groupby(['year', 'Neighborhood']).mean()\n",
    "prices_by_year_by_neighborhood = sfo_data_df.groupby(['year', 'neighborhood']).mean()\n",
    "\n",
    "# Review the DataFrame\n",
    "# YOUR CODE HERE\n",
    "print(prices_by_year_by_neighborhood)"
   ]
  },
  {
   "cell_type": "markdown",
   "metadata": {},
   "source": [
    "### Step 2: Filter out the “housing_units” column to create a DataFrame that includes only the `sale_price_sqr_foot` and `gross_rent` averages per year."
   ]
  },
  {
   "cell_type": "code",
   "execution_count": 43,
   "metadata": {},
   "outputs": [
    {
     "data": {
      "text/html": [
       "<div>\n",
       "<style scoped>\n",
       "    .dataframe tbody tr th:only-of-type {\n",
       "        vertical-align: middle;\n",
       "    }\n",
       "\n",
       "    .dataframe tbody tr th {\n",
       "        vertical-align: top;\n",
       "    }\n",
       "\n",
       "    .dataframe thead th {\n",
       "        text-align: right;\n",
       "    }\n",
       "</style>\n",
       "<table border=\"1\" class=\"dataframe\">\n",
       "  <thead>\n",
       "    <tr style=\"text-align: right;\">\n",
       "      <th></th>\n",
       "      <th></th>\n",
       "      <th>sale_price_sqr_foot</th>\n",
       "      <th>gross_rent</th>\n",
       "    </tr>\n",
       "    <tr>\n",
       "      <th>year</th>\n",
       "      <th>neighborhood</th>\n",
       "      <th></th>\n",
       "      <th></th>\n",
       "    </tr>\n",
       "  </thead>\n",
       "  <tbody>\n",
       "    <tr>\n",
       "      <th rowspan=\"5\" valign=\"top\">2010</th>\n",
       "      <th>Alamo Square</th>\n",
       "      <td>291.182945</td>\n",
       "      <td>1239.0</td>\n",
       "    </tr>\n",
       "    <tr>\n",
       "      <th>Anza Vista</th>\n",
       "      <td>267.932583</td>\n",
       "      <td>1239.0</td>\n",
       "    </tr>\n",
       "    <tr>\n",
       "      <th>Bayview</th>\n",
       "      <td>170.098665</td>\n",
       "      <td>1239.0</td>\n",
       "    </tr>\n",
       "    <tr>\n",
       "      <th>Buena Vista Park</th>\n",
       "      <td>347.394919</td>\n",
       "      <td>1239.0</td>\n",
       "    </tr>\n",
       "    <tr>\n",
       "      <th>Central Richmond</th>\n",
       "      <td>319.027623</td>\n",
       "      <td>1239.0</td>\n",
       "    </tr>\n",
       "  </tbody>\n",
       "</table>\n",
       "</div>"
      ],
      "text/plain": [
       "                       sale_price_sqr_foot  gross_rent\n",
       "year neighborhood                                     \n",
       "2010 Alamo Square               291.182945      1239.0\n",
       "     Anza Vista                 267.932583      1239.0\n",
       "     Bayview                    170.098665      1239.0\n",
       "     Buena Vista Park           347.394919      1239.0\n",
       "     Central Richmond           319.027623      1239.0"
      ]
     },
     "metadata": {},
     "output_type": "display_data"
    },
    {
     "data": {
      "text/html": [
       "<div>\n",
       "<style scoped>\n",
       "    .dataframe tbody tr th:only-of-type {\n",
       "        vertical-align: middle;\n",
       "    }\n",
       "\n",
       "    .dataframe tbody tr th {\n",
       "        vertical-align: top;\n",
       "    }\n",
       "\n",
       "    .dataframe thead th {\n",
       "        text-align: right;\n",
       "    }\n",
       "</style>\n",
       "<table border=\"1\" class=\"dataframe\">\n",
       "  <thead>\n",
       "    <tr style=\"text-align: right;\">\n",
       "      <th></th>\n",
       "      <th></th>\n",
       "      <th>sale_price_sqr_foot</th>\n",
       "      <th>gross_rent</th>\n",
       "    </tr>\n",
       "    <tr>\n",
       "      <th>year</th>\n",
       "      <th>neighborhood</th>\n",
       "      <th></th>\n",
       "      <th></th>\n",
       "    </tr>\n",
       "  </thead>\n",
       "  <tbody>\n",
       "    <tr>\n",
       "      <th rowspan=\"5\" valign=\"top\">2016</th>\n",
       "      <th>Telegraph Hill</th>\n",
       "      <td>903.049771</td>\n",
       "      <td>4390.0</td>\n",
       "    </tr>\n",
       "    <tr>\n",
       "      <th>Twin Peaks</th>\n",
       "      <td>970.085470</td>\n",
       "      <td>4390.0</td>\n",
       "    </tr>\n",
       "    <tr>\n",
       "      <th>Van Ness/ Civic Center</th>\n",
       "      <td>552.602567</td>\n",
       "      <td>4390.0</td>\n",
       "    </tr>\n",
       "    <tr>\n",
       "      <th>Visitacion Valley</th>\n",
       "      <td>328.319007</td>\n",
       "      <td>4390.0</td>\n",
       "    </tr>\n",
       "    <tr>\n",
       "      <th>Westwood Park</th>\n",
       "      <td>631.195426</td>\n",
       "      <td>4390.0</td>\n",
       "    </tr>\n",
       "  </tbody>\n",
       "</table>\n",
       "</div>"
      ],
      "text/plain": [
       "                             sale_price_sqr_foot  gross_rent\n",
       "year neighborhood                                           \n",
       "2016 Telegraph Hill                   903.049771      4390.0\n",
       "     Twin Peaks                       970.085470      4390.0\n",
       "     Van Ness/ Civic Center           552.602567      4390.0\n",
       "     Visitacion Valley                328.319007      4390.0\n",
       "     Westwood Park                    631.195426      4390.0"
      ]
     },
     "metadata": {},
     "output_type": "display_data"
    }
   ],
   "source": [
    "# Filter out the housing_units\n",
    "prices_by_year_by_neighborhood = prices_by_year_by_neighborhood.drop('housing_units', axis=1)\n",
    "\n",
    "# Review the first and last five rows of the DataFrame\n",
    "display(prices_by_year_by_neighborhood.head())\n",
    "display(prices_by_year_by_neighborhood.tail())"
   ]
  },
  {
   "cell_type": "markdown",
   "metadata": {},
   "source": [
    "### Step 3: Create an interactive line plot with hvPlot that visualizes both `sale_price_sqr_foot` and `gross_rent`. Set the x-axis parameter to the year (`x=\"year\"`). Use the `groupby` parameter to create an interactive widget for `neighborhood`.\n",
    "\n",
    "### Step 4: Style and format the line plot to ensure a professionally styled visualization."
   ]
  },
  {
   "cell_type": "code",
   "execution_count": 44,
   "metadata": {},
   "outputs": [
    {
     "name": "stderr",
     "output_type": "stream",
     "text": [
      "WARNING:param.main: xaxes option not found for line plot with bokeh; similar options include: ['xaxis', 'yaxis']\n",
      "WARNING:param.main: yaxes option not found for line plot with bokeh; similar options include: ['yaxis', 'xaxis']\n"
     ]
    },
    {
     "data": {},
     "metadata": {},
     "output_type": "display_data"
    },
    {
     "data": {
      "application/vnd.holoviews_exec.v0+json": "",
      "text/html": [
       "<div id='1618'>\n",
       "\n",
       "\n",
       "\n",
       "\n",
       "\n",
       "  <div class=\"bk-root\" id=\"c169c36e-3e06-4e8d-95f2-386d0df5ad0d\" data-root-id=\"1618\"></div>\n",
       "</div>\n",
       "<script type=\"application/javascript\">(function(root) {\n",
       "  function embed_document(root) {\n",
       "    var docs_json = {\"e7ba232f-2d65-4371-b14b-cc2c16acff2d\":{\"defs\":[{\"extends\":null,\"module\":null,\"name\":\"ReactiveHTML1\",\"overrides\":[],\"properties\":[]},{\"extends\":null,\"module\":null,\"name\":\"FlexBox1\",\"overrides\":[],\"properties\":[{\"default\":\"flex-start\",\"kind\":null,\"name\":\"align_content\"},{\"default\":\"flex-start\",\"kind\":null,\"name\":\"align_items\"},{\"default\":\"row\",\"kind\":null,\"name\":\"flex_direction\"},{\"default\":\"wrap\",\"kind\":null,\"name\":\"flex_wrap\"},{\"default\":\"flex-start\",\"kind\":null,\"name\":\"justify_content\"}]},{\"extends\":null,\"module\":null,\"name\":\"GridStack1\",\"overrides\":[],\"properties\":[{\"default\":\"warn\",\"kind\":null,\"name\":\"mode\"},{\"default\":null,\"kind\":null,\"name\":\"ncols\"},{\"default\":null,\"kind\":null,\"name\":\"nrows\"},{\"default\":true,\"kind\":null,\"name\":\"allow_resize\"},{\"default\":true,\"kind\":null,\"name\":\"allow_drag\"},{\"default\":[],\"kind\":null,\"name\":\"state\"}]},{\"extends\":null,\"module\":null,\"name\":\"click1\",\"overrides\":[],\"properties\":[{\"default\":\"\",\"kind\":null,\"name\":\"terminal_output\"},{\"default\":\"\",\"kind\":null,\"name\":\"debug_name\"},{\"default\":0,\"kind\":null,\"name\":\"clears\"}]},{\"extends\":null,\"module\":null,\"name\":\"TemplateActions1\",\"overrides\":[],\"properties\":[{\"default\":0,\"kind\":null,\"name\":\"open_modal\"},{\"default\":0,\"kind\":null,\"name\":\"close_modal\"}]},{\"extends\":null,\"module\":null,\"name\":\"MaterialTemplateActions1\",\"overrides\":[],\"properties\":[{\"default\":0,\"kind\":null,\"name\":\"open_modal\"},{\"default\":0,\"kind\":null,\"name\":\"close_modal\"}]}],\"roots\":{\"references\":[{\"attributes\":{\"line_alpha\":0.1,\"line_color\":\"#fc4f30\",\"line_width\":2,\"x\":{\"field\":\"year\"},\"y\":{\"field\":\"value\"}},\"id\":\"1685\",\"type\":\"Line\"},{\"attributes\":{\"client_comm_id\":\"c3c1c2001b8344b689e44e09fcbcd42d\",\"comm_id\":\"c60c5eb0adf6409199313308708eb882\",\"plot_id\":\"1618\"},\"id\":\"1859\",\"type\":\"panel.models.comm_manager.CommManager\"},{\"attributes\":{\"children\":[{\"id\":\"1819\"},{\"id\":\"1820\"},{\"id\":\"1822\"}],\"margin\":[0,0,0,0],\"name\":\"Column02800\"},\"id\":\"1818\",\"type\":\"Column\"},{\"attributes\":{\"line_alpha\":0.2,\"line_color\":\"#30a2da\",\"line_width\":2,\"x\":{\"field\":\"year\"},\"y\":{\"field\":\"value\"}},\"id\":\"1665\",\"type\":\"Line\"},{\"attributes\":{\"axis\":{\"id\":\"1637\"},\"coordinates\":null,\"dimension\":1,\"grid_line_color\":null,\"group\":null,\"ticker\":null},\"id\":\"1640\",\"type\":\"Grid\"},{\"attributes\":{\"line_alpha\":0.2,\"line_color\":\"#fc4f30\",\"line_width\":2,\"x\":{\"field\":\"year\"},\"y\":{\"field\":\"value\"}},\"id\":\"1686\",\"type\":\"Line\"},{\"attributes\":{\"coordinates\":null,\"data_source\":{\"id\":\"1660\"},\"glyph\":{\"id\":\"1663\"},\"group\":null,\"hover_glyph\":null,\"muted_glyph\":{\"id\":\"1665\"},\"nonselection_glyph\":{\"id\":\"1664\"},\"selection_glyph\":{\"id\":\"1680\"},\"view\":{\"id\":\"1667\"}},\"id\":\"1666\",\"type\":\"GlyphRenderer\"},{\"attributes\":{\"margin\":[5,5,5,5],\"name\":\"VSpacer02798\",\"sizing_mode\":\"stretch_height\"},\"id\":\"1819\",\"type\":\"Spacer\"},{\"attributes\":{},\"id\":\"1634\",\"type\":\"BasicTicker\"},{\"attributes\":{\"end\":4810.690068306854,\"reset_end\":4810.690068306854,\"reset_start\":-237.59075137539725,\"start\":-237.59075137539725,\"tags\":[[[\"value\",\"value\",null]]]},\"id\":\"1621\",\"type\":\"Range1d\"},{\"attributes\":{\"axis\":{\"id\":\"1633\"},\"coordinates\":null,\"grid_line_color\":null,\"group\":null,\"ticker\":null},\"id\":\"1636\",\"type\":\"Grid\"},{\"attributes\":{\"coordinates\":null,\"data_source\":{\"id\":\"1681\"},\"glyph\":{\"id\":\"1684\"},\"group\":null,\"hover_glyph\":null,\"muted_glyph\":{\"id\":\"1686\"},\"nonselection_glyph\":{\"id\":\"1685\"},\"selection_glyph\":{\"id\":\"1702\"},\"view\":{\"id\":\"1688\"}},\"id\":\"1687\",\"type\":\"GlyphRenderer\"},{\"attributes\":{},\"id\":\"1638\",\"type\":\"BasicTicker\"},{\"attributes\":{\"axis_label\":\"\",\"coordinates\":null,\"formatter\":{\"id\":\"1658\"},\"group\":null,\"major_label_policy\":{\"id\":\"1659\"},\"ticker\":{\"id\":\"1638\"}},\"id\":\"1637\",\"type\":\"LinearAxis\"},{\"attributes\":{\"callback\":null,\"renderers\":[{\"id\":\"1666\"},{\"id\":\"1687\"}],\"tags\":[\"hv_created\"],\"tooltips\":[[\"Variable\",\"@{Variable}\"],[\"year\",\"@{year}\"],[\"value\",\"@{value}\"]]},\"id\":\"1622\",\"type\":\"HoverTool\"},{\"attributes\":{},\"id\":\"1698\",\"type\":\"UnionRenderers\"},{\"attributes\":{},\"id\":\"1682\",\"type\":\"Selection\"},{\"attributes\":{\"source\":{\"id\":\"1681\"}},\"id\":\"1688\",\"type\":\"CDSView\"},{\"attributes\":{\"below\":[{\"id\":\"1633\"}],\"center\":[{\"id\":\"1636\"},{\"id\":\"1640\"}],\"height\":300,\"left\":[{\"id\":\"1637\"}],\"margin\":[5,5,5,5],\"min_border_bottom\":10,\"min_border_left\":10,\"min_border_right\":10,\"min_border_top\":10,\"renderers\":[{\"id\":\"1666\"},{\"id\":\"1687\"}],\"right\":[{\"id\":\"1678\"}],\"sizing_mode\":\"fixed\",\"title\":{\"id\":\"1625\"},\"toolbar\":{\"id\":\"1647\"},\"width\":700,\"x_range\":{\"id\":\"1620\"},\"x_scale\":{\"id\":\"1629\"},\"y_range\":{\"id\":\"1621\"},\"y_scale\":{\"id\":\"1631\"}},\"id\":\"1624\",\"subtype\":\"Figure\",\"type\":\"Plot\"},{\"attributes\":{\"label\":{\"value\":\"gross_rent\"},\"renderers\":[{\"id\":\"1687\"}]},\"id\":\"1701\",\"type\":\"LegendItem\"},{\"attributes\":{\"margin\":[5,5,5,5],\"name\":\"HSpacer02801\",\"sizing_mode\":\"stretch_width\"},\"id\":\"1619\",\"type\":\"Spacer\"},{\"attributes\":{\"line_alpha\":0.1,\"line_color\":\"#30a2da\",\"line_width\":2,\"x\":{\"field\":\"year\"},\"y\":{\"field\":\"value\"}},\"id\":\"1664\",\"type\":\"Line\"},{\"attributes\":{},\"id\":\"1629\",\"type\":\"LinearScale\"},{\"attributes\":{\"line_color\":\"#fc4f30\",\"line_width\":2,\"x\":{\"field\":\"year\"},\"y\":{\"field\":\"value\"}},\"id\":\"1702\",\"type\":\"Line\"},{\"attributes\":{},\"id\":\"1659\",\"type\":\"AllLabels\"},{\"attributes\":{\"label\":{\"value\":\"sale_price_sqr_foot\"},\"renderers\":[{\"id\":\"1666\"}]},\"id\":\"1679\",\"type\":\"LegendItem\"},{\"attributes\":{\"margin\":[20,20,20,20],\"min_width\":250,\"options\":[\"Alamo Square\",\"Anza Vista\",\"Bayview\",\"Buena Vista Park\",\"Central Richmond\",\"Central Sunset\",\"Corona Heights\",\"Cow Hollow\",\"Croker Amazon\",\"Diamond Heights\",\"Downtown \",\"Eureka Valley/Dolores Heights\",\"Excelsior\",\"Financial District North\",\"Financial District South\",\"Forest Knolls\",\"Glen Park\",\"Golden Gate Heights\",\"Haight Ashbury\",\"Hayes Valley\",\"Hunters Point\",\"Ingleside \",\"Inner Mission\",\"Inner Parkside\",\"Inner Richmond\",\"Inner Sunset\",\"Jordan Park/Laurel Heights\",\"Lake --The Presidio\",\"Lone Mountain\",\"Lower Pacific Heights\",\"Marina\",\"Miraloma Park\",\"Mission Bay\",\"Mission Dolores\",\"Mission Terrace\",\"Nob Hill\",\"Noe Valley\",\"Oceanview\",\"Outer Parkside\",\"Outer Richmond \",\"Outer Sunset\",\"Pacific Heights\",\"Park North\",\"Parkside\",\"Parnassus/Ashbury Heights\",\"Portola\",\"Potrero Hill\",\"Presidio Heights\",\"Russian Hill\",\"South Beach\",\"South of Market\",\"Sunnyside\",\"Telegraph Hill\",\"Twin Peaks\",\"Union Square District\",\"Van Ness/ Civic Center\",\"West Portal\",\"Western Addition\",\"Yerba Buena\",\"Bernal Heights \",\"Clarendon Heights\",\"Duboce Triangle\",\"Ingleside Heights\",\"North Beach\",\"North Waterfront\",\"Outer Mission\",\"Westwood Highlands\",\"Merced Heights\",\"Midtown Terrace\",\"Visitacion Valley\",\"Silver Terrace\",\"Westwood Park\",\"Bayview Heights\"],\"title\":\"neighborhood\",\"value\":\"Alamo Square\",\"width\":250},\"id\":\"1821\",\"type\":\"panel.models.widgets.CustomSelect\"},{\"attributes\":{\"line_color\":\"#30a2da\",\"line_width\":2,\"x\":{\"field\":\"year\"},\"y\":{\"field\":\"value\"}},\"id\":\"1663\",\"type\":\"Line\"},{\"attributes\":{},\"id\":\"1661\",\"type\":\"Selection\"},{\"attributes\":{\"line_color\":\"#30a2da\",\"line_width\":2,\"x\":{\"field\":\"year\"},\"y\":{\"field\":\"value\"}},\"id\":\"1680\",\"type\":\"Line\"},{\"attributes\":{\"end\":2016.0,\"reset_end\":2016.0,\"reset_start\":2010.0,\"start\":2010.0,\"tags\":[[[\"year\",\"year\",null]]]},\"id\":\"1620\",\"type\":\"Range1d\"},{\"attributes\":{},\"id\":\"1641\",\"type\":\"SaveTool\"},{\"attributes\":{\"axis_label\":\"year\",\"coordinates\":null,\"formatter\":{\"id\":\"1655\"},\"group\":null,\"major_label_policy\":{\"id\":\"1656\"},\"ticker\":{\"id\":\"1634\"}},\"id\":\"1633\",\"type\":\"LinearAxis\"},{\"attributes\":{\"data\":{\"Variable\":[\"gross_rent\",\"gross_rent\",\"gross_rent\",\"gross_rent\",\"gross_rent\",\"gross_rent\",\"gross_rent\"],\"value\":{\"__ndarray__\":\"AAAAAABck0AAAAAAAOiXQAAAAAAAKKJAAAAAAAA2p0AAAAAAAJCrQAAAAAAANq1AAAAAAAAmsUA=\",\"dtype\":\"float64\",\"order\":\"little\",\"shape\":[7]},\"year\":[2010,2011,2012,2013,2014,2015,2016]},\"selected\":{\"id\":\"1682\"},\"selection_policy\":{\"id\":\"1698\"}},\"id\":\"1681\",\"type\":\"ColumnDataSource\"},{\"attributes\":{},\"id\":\"1675\",\"type\":\"UnionRenderers\"},{\"attributes\":{},\"id\":\"1642\",\"type\":\"PanTool\"},{\"attributes\":{\"coordinates\":null,\"group\":null,\"text\":\"Sales Price/Gross Rent by Neighborhood SF 2010-16\",\"text_color\":\"black\",\"text_font_size\":\"12pt\"},\"id\":\"1625\",\"type\":\"Title\"},{\"attributes\":{\"bottom_units\":\"screen\",\"coordinates\":null,\"fill_alpha\":0.5,\"fill_color\":\"lightgrey\",\"group\":null,\"left_units\":\"screen\",\"level\":\"overlay\",\"line_alpha\":1.0,\"line_color\":\"black\",\"line_dash\":[4,4],\"line_width\":2,\"right_units\":\"screen\",\"syncable\":false,\"top_units\":\"screen\"},\"id\":\"1646\",\"type\":\"BoxAnnotation\"},{\"attributes\":{\"line_color\":\"#fc4f30\",\"line_width\":2,\"x\":{\"field\":\"year\"},\"y\":{\"field\":\"value\"}},\"id\":\"1684\",\"type\":\"Line\"},{\"attributes\":{},\"id\":\"1643\",\"type\":\"WheelZoomTool\"},{\"attributes\":{},\"id\":\"1655\",\"type\":\"BasicTickFormatter\"},{\"attributes\":{\"tools\":[{\"id\":\"1622\"},{\"id\":\"1641\"},{\"id\":\"1642\"},{\"id\":\"1643\"},{\"id\":\"1644\"},{\"id\":\"1645\"}]},\"id\":\"1647\",\"type\":\"Toolbar\"},{\"attributes\":{\"click_policy\":\"mute\",\"coordinates\":null,\"group\":null,\"items\":[{\"id\":\"1679\"},{\"id\":\"1701\"}],\"location\":[0,0],\"title\":\"Variable\"},\"id\":\"1678\",\"type\":\"Legend\"},{\"attributes\":{\"margin\":[5,5,5,5],\"name\":\"HSpacer02802\",\"sizing_mode\":\"stretch_width\"},\"id\":\"1817\",\"type\":\"Spacer\"},{\"attributes\":{\"overlay\":{\"id\":\"1646\"}},\"id\":\"1644\",\"type\":\"BoxZoomTool\"},{\"attributes\":{\"children\":[{\"id\":\"1821\"}],\"css_classes\":[\"panel-widget-box\"],\"margin\":[5,5,5,5],\"name\":\"WidgetBox02793\"},\"id\":\"1820\",\"type\":\"Column\"},{\"attributes\":{\"data\":{\"Variable\":[\"sale_price_sqr_foot\",\"sale_price_sqr_foot\",\"sale_price_sqr_foot\",\"sale_price_sqr_foot\",\"sale_price_sqr_foot\",\"sale_price_sqr_foot\",\"sale_price_sqr_foot\"],\"value\":{\"__ndarray__\":\"DUc7WO0yckCafszcbwhxQIKRs5ot42ZAKDog0LQ8eEAVMinKGEd+QI4V5FDt0IJAVCHcmLVPdUA=\",\"dtype\":\"float64\",\"order\":\"little\",\"shape\":[7]},\"year\":[2010,2011,2012,2013,2014,2015,2016]},\"selected\":{\"id\":\"1661\"},\"selection_policy\":{\"id\":\"1675\"}},\"id\":\"1660\",\"type\":\"ColumnDataSource\"},{\"attributes\":{\"source\":{\"id\":\"1660\"}},\"id\":\"1667\",\"type\":\"CDSView\"},{\"attributes\":{},\"id\":\"1658\",\"type\":\"BasicTickFormatter\"},{\"attributes\":{\"children\":[{\"id\":\"1619\"},{\"id\":\"1624\"},{\"id\":\"1817\"},{\"id\":\"1818\"}],\"margin\":[0,0,0,0],\"name\":\"Row02792\"},\"id\":\"1618\",\"type\":\"Row\"},{\"attributes\":{},\"id\":\"1645\",\"type\":\"ResetTool\"},{\"attributes\":{},\"id\":\"1656\",\"type\":\"AllLabels\"},{\"attributes\":{\"margin\":[5,5,5,5],\"name\":\"VSpacer02799\",\"sizing_mode\":\"stretch_height\"},\"id\":\"1822\",\"type\":\"Spacer\"},{\"attributes\":{},\"id\":\"1631\",\"type\":\"LinearScale\"}],\"root_ids\":[\"1618\",\"1859\"]},\"title\":\"Bokeh Application\",\"version\":\"2.4.2\"}};\n",
       "    var render_items = [{\"docid\":\"e7ba232f-2d65-4371-b14b-cc2c16acff2d\",\"root_ids\":[\"1618\"],\"roots\":{\"1618\":\"c169c36e-3e06-4e8d-95f2-386d0df5ad0d\"}}];\n",
       "    root.Bokeh.embed.embed_items_notebook(docs_json, render_items);\n",
       "  }\n",
       "  if (root.Bokeh !== undefined && root.Bokeh.Panel !== undefined) {\n",
       "    embed_document(root);\n",
       "  } else {\n",
       "    var attempts = 0;\n",
       "    var timer = setInterval(function(root) {\n",
       "      if (root.Bokeh !== undefined && root.Bokeh.Panel !== undefined) {\n",
       "        clearInterval(timer);\n",
       "        embed_document(root);\n",
       "      } else if (document.readyState == \"complete\") {\n",
       "        attempts++;\n",
       "        if (attempts > 200) {\n",
       "          clearInterval(timer);\n",
       "          console.log(\"Bokeh: ERROR: Unable to run BokehJS code because BokehJS library is missing\");\n",
       "        }\n",
       "      }\n",
       "    }, 25, root)\n",
       "  }\n",
       "})(window);</script>"
      ],
      "text/plain": [
       ":DynamicMap   [neighborhood]\n",
       "   :NdOverlay   [Variable]\n",
       "      :Curve   [year]   (value)"
      ]
     },
     "execution_count": 44,
     "metadata": {
      "application/vnd.holoviews_exec.v0+json": {
       "id": "1618"
      }
     },
     "output_type": "execute_result"
    }
   ],
   "source": [
    "# Use hvplot to create an interactive line plot of the average price per square foot\n",
    "# The plot should have a dropdown selector for the neighborhood\n",
    "prices_by_year_by_neighborhood.hvplot.line(xaxes='year', yaxes=\"Sale price sqr foot\", groupby=\"neighborhood\", title=\"Sales Price/Gross Rent by Neighborhood SF 2010-16\")"
   ]
  },
  {
   "cell_type": "markdown",
   "metadata": {},
   "source": [
    "### Step 6: Use the interactive visualization to answer the following question:"
   ]
  },
  {
   "cell_type": "markdown",
   "metadata": {},
   "source": [
    "**Question:** For the Anza Vista neighborhood, is the average sale price per square foot for 2016 more or less than the price that’s listed for 2012? \n",
    "\n",
    "**Answer:** # YOUR ANSWER HERE"
   ]
  },
  {
   "cell_type": "markdown",
   "metadata": {},
   "source": [
    "---"
   ]
  },
  {
   "cell_type": "markdown",
   "metadata": {},
   "source": [
    "## Build an Interactive Neighborhood Map\n",
    "\n",
    "For this part of the assignment, explore the geospatial relationships in the data by using interactive visualizations with hvPlot and GeoViews. To build your map, use the `sfo_data_df` DataFrame (created during the initial import), which includes the neighborhood location data with the average prices. To do all this, complete the following steps:\n",
    "\n",
    "1. Read the `neighborhood_coordinates.csv` file from the `Resources` folder into the notebook, and create a DataFrame named `neighborhood_locations_df`. Be sure to set the `index_col` of the DataFrame as “Neighborhood”.\n",
    "\n",
    "2. Using the original `sfo_data_df` Dataframe, create a DataFrame named `all_neighborhood_info_df` that groups the data by neighborhood. Aggregate the results by the `mean` of the group.\n",
    "\n",
    "3. Review the two code cells that concatenate the `neighborhood_locations_df` DataFrame with the `all_neighborhood_info_df` DataFrame. Note that the first cell uses the [Pandas concat function](https://pandas.pydata.org/pandas-docs/stable/reference/api/pandas.concat.html) to create a DataFrame named `all_neighborhoods_df`. The second cell cleans the data and sets the “Neighborhood” column. Be sure to run these cells to create the `all_neighborhoods_df` DataFrame, which you’ll need to create the geospatial visualization.\n",
    "\n",
    "4. Using hvPlot with GeoViews enabled, create a `points` plot for the `all_neighborhoods_df` DataFrame. Be sure to do the following:\n",
    "\n",
    "    * Set the `size` parameter to “sale_price_sqr_foot”.\n",
    "\n",
    "    * Set the `color` parameter to “gross_rent”.\n",
    "\n",
    "    * Set the `size_max` parameter to “25”.\n",
    "\n",
    "    * Set the `zoom` parameter to “11”.\n",
    "\n",
    "Note that your resulting plot should appear similar to the following image:\n",
    "\n",
    "![A screenshot depicts an example of a scatter plot created with hvPlot and GeoViews.](Images/6-4-geoviews-plot.png)\n",
    "\n",
    "5. Use the interactive map to answer the following question:\n",
    "\n",
    "    * Which neighborhood has the highest gross rent, and which has the highest sale price per square foot?\n"
   ]
  },
  {
   "cell_type": "markdown",
   "metadata": {},
   "source": [
    "### Step 1: Read the `neighborhood_coordinates.csv` file from the `Resources` folder into the notebook, and create a DataFrame named `neighborhood_locations_df`. Be sure to set the `index_col` of the DataFrame as “Neighborhood”."
   ]
  },
  {
   "cell_type": "code",
   "execution_count": 45,
   "metadata": {},
   "outputs": [
    {
     "name": "stdout",
     "output_type": "stream",
     "text": [
      "                          Lat         Lon\n",
      "Neighborhood                             \n",
      "Alamo Square        37.791012 -122.402100\n",
      "Anza Vista          37.779598 -122.443451\n",
      "Bayview             37.734670 -122.401060\n",
      "Bayview Heights     37.728740 -122.410980\n",
      "Bernal Heights      37.728630 -122.443050\n",
      "...                       ...         ...\n",
      "West Portal         37.740260 -122.463880\n",
      "Western Addition    37.792980 -122.435790\n",
      "Westwood Highlands  37.734700 -122.456854\n",
      "Westwood Park       37.734150 -122.457000\n",
      "Yerba Buena         37.792980 -122.396360\n",
      "\n",
      "[73 rows x 2 columns]\n"
     ]
    }
   ],
   "source": [
    "# Load neighborhoods coordinates data\n",
    "neighborhood_locations_df = pd.read_csv(Path('./Resources/neighborhoods_coordinates.csv'), index_col=\"Neighborhood\")\n",
    "\n",
    "\n",
    "# Review the DataFrame\n",
    "# YOUR CODE HERE\n",
    "print(neighborhood_locations_df)"
   ]
  },
  {
   "cell_type": "markdown",
   "metadata": {},
   "source": [
    "### Step 2: Using the original `sfo_data_df` Dataframe, create a DataFrame named `all_neighborhood_info_df` that groups the data by neighborhood. Aggregate the results by the `mean` of the group."
   ]
  },
  {
   "cell_type": "code",
   "execution_count": 46,
   "metadata": {},
   "outputs": [
    {
     "name": "stdout",
     "output_type": "stream",
     "text": [
      "                           year  sale_price_sqr_foot  housing_units  \\\n",
      "neighborhood                                                          \n",
      "Alamo Square        2013.000000           366.020712      378401.00   \n",
      "Anza Vista          2013.333333           373.382198      379050.00   \n",
      "Bayview             2012.000000           204.588623      376454.00   \n",
      "Bayview Heights     2015.000000           590.792839      382295.00   \n",
      "Bernal Heights      2013.500000           576.746488      379374.50   \n",
      "...                         ...                  ...            ...   \n",
      "West Portal         2012.250000           498.488485      376940.75   \n",
      "Western Addition    2012.500000           307.562201      377427.50   \n",
      "Westwood Highlands  2012.000000           533.703935      376454.00   \n",
      "Westwood Park       2015.000000           687.087575      382295.00   \n",
      "Yerba Buena         2012.500000           576.709848      377427.50   \n",
      "\n",
      "                     gross_rent  \n",
      "neighborhood                     \n",
      "Alamo Square        2817.285714  \n",
      "Anza Vista          3031.833333  \n",
      "Bayview             2318.400000  \n",
      "Bayview Heights     3739.000000  \n",
      "Bernal Heights      3080.333333  \n",
      "...                         ...  \n",
      "West Portal         2515.500000  \n",
      "Western Addition    2555.166667  \n",
      "Westwood Highlands  2250.500000  \n",
      "Westwood Park       3959.000000  \n",
      "Yerba Buena         2555.166667  \n",
      "\n",
      "[73 rows x 4 columns]\n"
     ]
    }
   ],
   "source": [
    "# Calculate the mean values for each neighborhood\n",
    "all_neighborhood_info_df = sfo_data_df.groupby(['neighborhood']).mean()\n",
    "\n",
    "# Review the resulting DataFrame\n",
    "print(all_neighborhood_info_df)"
   ]
  },
  {
   "cell_type": "markdown",
   "metadata": {},
   "source": [
    "### Step 3: Review the two code cells that concatenate the `neighborhood_locations_df` DataFrame with the `all_neighborhood_info_df` DataFrame. \n",
    "\n",
    "Note that the first cell uses the [Pandas concat function](https://pandas.pydata.org/pandas-docs/stable/reference/api/pandas.concat.html) to create a DataFrame named `all_neighborhoods_df`. \n",
    "\n",
    "The second cell cleans the data and sets the “Neighborhood” column. \n",
    "\n",
    "Be sure to run these cells to create the `all_neighborhoods_df` DataFrame, which you’ll need to create the geospatial visualization."
   ]
  },
  {
   "cell_type": "code",
   "execution_count": 47,
   "metadata": {},
   "outputs": [
    {
     "data": {
      "text/html": [
       "<div>\n",
       "<style scoped>\n",
       "    .dataframe tbody tr th:only-of-type {\n",
       "        vertical-align: middle;\n",
       "    }\n",
       "\n",
       "    .dataframe tbody tr th {\n",
       "        vertical-align: top;\n",
       "    }\n",
       "\n",
       "    .dataframe thead th {\n",
       "        text-align: right;\n",
       "    }\n",
       "</style>\n",
       "<table border=\"1\" class=\"dataframe\">\n",
       "  <thead>\n",
       "    <tr style=\"text-align: right;\">\n",
       "      <th></th>\n",
       "      <th>Lat</th>\n",
       "      <th>Lon</th>\n",
       "      <th>year</th>\n",
       "      <th>sale_price_sqr_foot</th>\n",
       "      <th>housing_units</th>\n",
       "      <th>gross_rent</th>\n",
       "    </tr>\n",
       "  </thead>\n",
       "  <tbody>\n",
       "    <tr>\n",
       "      <th>Alamo Square</th>\n",
       "      <td>37.791012</td>\n",
       "      <td>-122.402100</td>\n",
       "      <td>2013.000000</td>\n",
       "      <td>366.020712</td>\n",
       "      <td>378401.0</td>\n",
       "      <td>2817.285714</td>\n",
       "    </tr>\n",
       "    <tr>\n",
       "      <th>Anza Vista</th>\n",
       "      <td>37.779598</td>\n",
       "      <td>-122.443451</td>\n",
       "      <td>2013.333333</td>\n",
       "      <td>373.382198</td>\n",
       "      <td>379050.0</td>\n",
       "      <td>3031.833333</td>\n",
       "    </tr>\n",
       "    <tr>\n",
       "      <th>Bayview</th>\n",
       "      <td>37.734670</td>\n",
       "      <td>-122.401060</td>\n",
       "      <td>2012.000000</td>\n",
       "      <td>204.588623</td>\n",
       "      <td>376454.0</td>\n",
       "      <td>2318.400000</td>\n",
       "    </tr>\n",
       "    <tr>\n",
       "      <th>Bayview Heights</th>\n",
       "      <td>37.728740</td>\n",
       "      <td>-122.410980</td>\n",
       "      <td>2015.000000</td>\n",
       "      <td>590.792839</td>\n",
       "      <td>382295.0</td>\n",
       "      <td>3739.000000</td>\n",
       "    </tr>\n",
       "    <tr>\n",
       "      <th>Bernal Heights</th>\n",
       "      <td>37.728630</td>\n",
       "      <td>-122.443050</td>\n",
       "      <td>NaN</td>\n",
       "      <td>NaN</td>\n",
       "      <td>NaN</td>\n",
       "      <td>NaN</td>\n",
       "    </tr>\n",
       "  </tbody>\n",
       "</table>\n",
       "</div>"
      ],
      "text/plain": [
       "                       Lat         Lon         year  sale_price_sqr_foot  \\\n",
       "Alamo Square     37.791012 -122.402100  2013.000000           366.020712   \n",
       "Anza Vista       37.779598 -122.443451  2013.333333           373.382198   \n",
       "Bayview          37.734670 -122.401060  2012.000000           204.588623   \n",
       "Bayview Heights  37.728740 -122.410980  2015.000000           590.792839   \n",
       "Bernal Heights   37.728630 -122.443050          NaN                  NaN   \n",
       "\n",
       "                 housing_units   gross_rent  \n",
       "Alamo Square          378401.0  2817.285714  \n",
       "Anza Vista            379050.0  3031.833333  \n",
       "Bayview               376454.0  2318.400000  \n",
       "Bayview Heights       382295.0  3739.000000  \n",
       "Bernal Heights             NaN          NaN  "
      ]
     },
     "metadata": {},
     "output_type": "display_data"
    },
    {
     "data": {
      "text/html": [
       "<div>\n",
       "<style scoped>\n",
       "    .dataframe tbody tr th:only-of-type {\n",
       "        vertical-align: middle;\n",
       "    }\n",
       "\n",
       "    .dataframe tbody tr th {\n",
       "        vertical-align: top;\n",
       "    }\n",
       "\n",
       "    .dataframe thead th {\n",
       "        text-align: right;\n",
       "    }\n",
       "</style>\n",
       "<table border=\"1\" class=\"dataframe\">\n",
       "  <thead>\n",
       "    <tr style=\"text-align: right;\">\n",
       "      <th></th>\n",
       "      <th>Lat</th>\n",
       "      <th>Lon</th>\n",
       "      <th>year</th>\n",
       "      <th>sale_price_sqr_foot</th>\n",
       "      <th>housing_units</th>\n",
       "      <th>gross_rent</th>\n",
       "    </tr>\n",
       "  </thead>\n",
       "  <tbody>\n",
       "    <tr>\n",
       "      <th>Yerba Buena</th>\n",
       "      <td>37.79298</td>\n",
       "      <td>-122.39636</td>\n",
       "      <td>2012.5</td>\n",
       "      <td>576.709848</td>\n",
       "      <td>377427.5</td>\n",
       "      <td>2555.166667</td>\n",
       "    </tr>\n",
       "    <tr>\n",
       "      <th>Bernal Heights</th>\n",
       "      <td>NaN</td>\n",
       "      <td>NaN</td>\n",
       "      <td>2013.5</td>\n",
       "      <td>576.746488</td>\n",
       "      <td>379374.5</td>\n",
       "      <td>3080.333333</td>\n",
       "    </tr>\n",
       "    <tr>\n",
       "      <th>Downtown</th>\n",
       "      <td>NaN</td>\n",
       "      <td>NaN</td>\n",
       "      <td>2013.0</td>\n",
       "      <td>391.434378</td>\n",
       "      <td>378401.0</td>\n",
       "      <td>2817.285714</td>\n",
       "    </tr>\n",
       "    <tr>\n",
       "      <th>Ingleside</th>\n",
       "      <td>NaN</td>\n",
       "      <td>NaN</td>\n",
       "      <td>2012.5</td>\n",
       "      <td>367.895144</td>\n",
       "      <td>377427.5</td>\n",
       "      <td>2509.000000</td>\n",
       "    </tr>\n",
       "    <tr>\n",
       "      <th>Outer Richmond</th>\n",
       "      <td>NaN</td>\n",
       "      <td>NaN</td>\n",
       "      <td>2013.0</td>\n",
       "      <td>473.900773</td>\n",
       "      <td>378401.0</td>\n",
       "      <td>2817.285714</td>\n",
       "    </tr>\n",
       "  </tbody>\n",
       "</table>\n",
       "</div>"
      ],
      "text/plain": [
       "                      Lat        Lon    year  sale_price_sqr_foot  \\\n",
       "Yerba Buena      37.79298 -122.39636  2012.5           576.709848   \n",
       "Bernal Heights        NaN        NaN  2013.5           576.746488   \n",
       "Downtown              NaN        NaN  2013.0           391.434378   \n",
       "Ingleside             NaN        NaN  2012.5           367.895144   \n",
       "Outer Richmond        NaN        NaN  2013.0           473.900773   \n",
       "\n",
       "                 housing_units   gross_rent  \n",
       "Yerba Buena           377427.5  2555.166667  \n",
       "Bernal Heights        379374.5  3080.333333  \n",
       "Downtown              378401.0  2817.285714  \n",
       "Ingleside             377427.5  2509.000000  \n",
       "Outer Richmond        378401.0  2817.285714  "
      ]
     },
     "metadata": {},
     "output_type": "display_data"
    }
   ],
   "source": [
    "# Using the Pandas `concat` function, join the \n",
    "# neighborhood_locations_df and the all_neighborhood_info_df DataFrame\n",
    "# The axis of the concatenation is \"columns\".\n",
    "# The concat function will automatially combine columns with\n",
    "# identical information, while keeping the additional columns.\n",
    "all_neighborhoods_df = pd.concat(\n",
    "    [neighborhood_locations_df, all_neighborhood_info_df], \n",
    "    axis=\"columns\",\n",
    "    sort=False\n",
    ")\n",
    "\n",
    "# Review the resulting DataFrame\n",
    "display(all_neighborhoods_df.head())\n",
    "display(all_neighborhoods_df.tail())\n"
   ]
  },
  {
   "cell_type": "code",
   "execution_count": 48,
   "metadata": {},
   "outputs": [
    {
     "data": {
      "text/html": [
       "<div>\n",
       "<style scoped>\n",
       "    .dataframe tbody tr th:only-of-type {\n",
       "        vertical-align: middle;\n",
       "    }\n",
       "\n",
       "    .dataframe tbody tr th {\n",
       "        vertical-align: top;\n",
       "    }\n",
       "\n",
       "    .dataframe thead th {\n",
       "        text-align: right;\n",
       "    }\n",
       "</style>\n",
       "<table border=\"1\" class=\"dataframe\">\n",
       "  <thead>\n",
       "    <tr style=\"text-align: right;\">\n",
       "      <th></th>\n",
       "      <th>Neighborhood</th>\n",
       "      <th>Lat</th>\n",
       "      <th>Lon</th>\n",
       "      <th>year</th>\n",
       "      <th>sale_price_sqr_foot</th>\n",
       "      <th>housing_units</th>\n",
       "      <th>gross_rent</th>\n",
       "    </tr>\n",
       "  </thead>\n",
       "  <tbody>\n",
       "    <tr>\n",
       "      <th>0</th>\n",
       "      <td>Alamo Square</td>\n",
       "      <td>37.791012</td>\n",
       "      <td>-122.402100</td>\n",
       "      <td>2013.000000</td>\n",
       "      <td>366.020712</td>\n",
       "      <td>378401.0</td>\n",
       "      <td>2817.285714</td>\n",
       "    </tr>\n",
       "    <tr>\n",
       "      <th>1</th>\n",
       "      <td>Anza Vista</td>\n",
       "      <td>37.779598</td>\n",
       "      <td>-122.443451</td>\n",
       "      <td>2013.333333</td>\n",
       "      <td>373.382198</td>\n",
       "      <td>379050.0</td>\n",
       "      <td>3031.833333</td>\n",
       "    </tr>\n",
       "    <tr>\n",
       "      <th>2</th>\n",
       "      <td>Bayview</td>\n",
       "      <td>37.734670</td>\n",
       "      <td>-122.401060</td>\n",
       "      <td>2012.000000</td>\n",
       "      <td>204.588623</td>\n",
       "      <td>376454.0</td>\n",
       "      <td>2318.400000</td>\n",
       "    </tr>\n",
       "    <tr>\n",
       "      <th>3</th>\n",
       "      <td>Bayview Heights</td>\n",
       "      <td>37.728740</td>\n",
       "      <td>-122.410980</td>\n",
       "      <td>2015.000000</td>\n",
       "      <td>590.792839</td>\n",
       "      <td>382295.0</td>\n",
       "      <td>3739.000000</td>\n",
       "    </tr>\n",
       "    <tr>\n",
       "      <th>5</th>\n",
       "      <td>Buena Vista Park</td>\n",
       "      <td>37.768160</td>\n",
       "      <td>-122.439330</td>\n",
       "      <td>2012.833333</td>\n",
       "      <td>452.680591</td>\n",
       "      <td>378076.5</td>\n",
       "      <td>2698.833333</td>\n",
       "    </tr>\n",
       "  </tbody>\n",
       "</table>\n",
       "</div>"
      ],
      "text/plain": [
       "       Neighborhood        Lat         Lon         year  sale_price_sqr_foot  \\\n",
       "0      Alamo Square  37.791012 -122.402100  2013.000000           366.020712   \n",
       "1        Anza Vista  37.779598 -122.443451  2013.333333           373.382198   \n",
       "2           Bayview  37.734670 -122.401060  2012.000000           204.588623   \n",
       "3   Bayview Heights  37.728740 -122.410980  2015.000000           590.792839   \n",
       "5  Buena Vista Park  37.768160 -122.439330  2012.833333           452.680591   \n",
       "\n",
       "   housing_units   gross_rent  \n",
       "0       378401.0  2817.285714  \n",
       "1       379050.0  3031.833333  \n",
       "2       376454.0  2318.400000  \n",
       "3       382295.0  3739.000000  \n",
       "5       378076.5  2698.833333  "
      ]
     },
     "metadata": {},
     "output_type": "display_data"
    },
    {
     "data": {
      "text/html": [
       "<div>\n",
       "<style scoped>\n",
       "    .dataframe tbody tr th:only-of-type {\n",
       "        vertical-align: middle;\n",
       "    }\n",
       "\n",
       "    .dataframe tbody tr th {\n",
       "        vertical-align: top;\n",
       "    }\n",
       "\n",
       "    .dataframe thead th {\n",
       "        text-align: right;\n",
       "    }\n",
       "</style>\n",
       "<table border=\"1\" class=\"dataframe\">\n",
       "  <thead>\n",
       "    <tr style=\"text-align: right;\">\n",
       "      <th></th>\n",
       "      <th>Neighborhood</th>\n",
       "      <th>Lat</th>\n",
       "      <th>Lon</th>\n",
       "      <th>year</th>\n",
       "      <th>sale_price_sqr_foot</th>\n",
       "      <th>housing_units</th>\n",
       "      <th>gross_rent</th>\n",
       "    </tr>\n",
       "  </thead>\n",
       "  <tbody>\n",
       "    <tr>\n",
       "      <th>68</th>\n",
       "      <td>West Portal</td>\n",
       "      <td>37.74026</td>\n",
       "      <td>-122.463880</td>\n",
       "      <td>2012.25</td>\n",
       "      <td>498.488485</td>\n",
       "      <td>376940.75</td>\n",
       "      <td>2515.500000</td>\n",
       "    </tr>\n",
       "    <tr>\n",
       "      <th>69</th>\n",
       "      <td>Western Addition</td>\n",
       "      <td>37.79298</td>\n",
       "      <td>-122.435790</td>\n",
       "      <td>2012.50</td>\n",
       "      <td>307.562201</td>\n",
       "      <td>377427.50</td>\n",
       "      <td>2555.166667</td>\n",
       "    </tr>\n",
       "    <tr>\n",
       "      <th>70</th>\n",
       "      <td>Westwood Highlands</td>\n",
       "      <td>37.73470</td>\n",
       "      <td>-122.456854</td>\n",
       "      <td>2012.00</td>\n",
       "      <td>533.703935</td>\n",
       "      <td>376454.00</td>\n",
       "      <td>2250.500000</td>\n",
       "    </tr>\n",
       "    <tr>\n",
       "      <th>71</th>\n",
       "      <td>Westwood Park</td>\n",
       "      <td>37.73415</td>\n",
       "      <td>-122.457000</td>\n",
       "      <td>2015.00</td>\n",
       "      <td>687.087575</td>\n",
       "      <td>382295.00</td>\n",
       "      <td>3959.000000</td>\n",
       "    </tr>\n",
       "    <tr>\n",
       "      <th>72</th>\n",
       "      <td>Yerba Buena</td>\n",
       "      <td>37.79298</td>\n",
       "      <td>-122.396360</td>\n",
       "      <td>2012.50</td>\n",
       "      <td>576.709848</td>\n",
       "      <td>377427.50</td>\n",
       "      <td>2555.166667</td>\n",
       "    </tr>\n",
       "  </tbody>\n",
       "</table>\n",
       "</div>"
      ],
      "text/plain": [
       "          Neighborhood       Lat         Lon     year  sale_price_sqr_foot  \\\n",
       "68         West Portal  37.74026 -122.463880  2012.25           498.488485   \n",
       "69    Western Addition  37.79298 -122.435790  2012.50           307.562201   \n",
       "70  Westwood Highlands  37.73470 -122.456854  2012.00           533.703935   \n",
       "71       Westwood Park  37.73415 -122.457000  2015.00           687.087575   \n",
       "72         Yerba Buena  37.79298 -122.396360  2012.50           576.709848   \n",
       "\n",
       "    housing_units   gross_rent  \n",
       "68      376940.75  2515.500000  \n",
       "69      377427.50  2555.166667  \n",
       "70      376454.00  2250.500000  \n",
       "71      382295.00  3959.000000  \n",
       "72      377427.50  2555.166667  "
      ]
     },
     "metadata": {},
     "output_type": "display_data"
    }
   ],
   "source": [
    "# Call the dropna function to remove any neighborhoods that do not have data\n",
    "all_neighborhoods_df = all_neighborhoods_df.reset_index().dropna()\n",
    "\n",
    "# Rename the \"index\" column as \"Neighborhood\" for use in the Visualization\n",
    "all_neighborhoods_df = all_neighborhoods_df.rename(columns={\"index\": \"Neighborhood\"})\n",
    "\n",
    "# Review the resulting DataFrame\n",
    "display(all_neighborhoods_df.head())\n",
    "display(all_neighborhoods_df.tail())"
   ]
  },
  {
   "cell_type": "markdown",
   "metadata": {},
   "source": [
    "### Step 4: Using hvPlot with GeoViews enabled, create a `points` plot for the `all_neighborhoods_df` DataFrame. Be sure to do the following:\n",
    "\n",
    "* Set the `geo` parameter to True.\n",
    "* Set the `size` parameter to “sale_price_sqr_foot”.\n",
    "* Set the `color` parameter to “gross_rent”.\n",
    "* Set the `frame_width` parameter to 700.\n",
    "* Set the `frame_height` parameter to 500.\n",
    "* Include a descriptive title."
   ]
  },
  {
   "cell_type": "code",
   "execution_count": 51,
   "metadata": {},
   "outputs": [
    {
     "name": "stdout",
     "output_type": "stream",
     "text": [
      "float64\n",
      "float64\n"
     ]
    }
   ],
   "source": [
    "# Create a plot to analyze neighborhood info\n",
    "# Check the data type of the columns\n",
    "all_neighborhoods_df = all_neighborhoods_df.hvplot.points(\n",
    "    'Longitude',\n",
    "    'Latitude',\n",
    "    geo=True,\n",
    "    size=\"sale_price_sqr_foot\",\n",
    "    color=\"gross_rent\",\n",
    "    tiles='OSM',\n",
    "    frame_width=700,\n",
    "    frame_height=500,\n",
    "    title=\"Gross Rent/Sale price per square foot Sf 2010-16\"\n",
    ")\n"
   ]
  },
  {
   "cell_type": "code",
   "execution_count": null,
   "metadata": {},
   "outputs": [],
   "source": []
  },
  {
   "cell_type": "markdown",
   "metadata": {},
   "source": [
    "### Step 5: Use the interactive map to answer the following question:"
   ]
  },
  {
   "cell_type": "markdown",
   "metadata": {},
   "source": [
    "**Question:** Which neighborhood has the highest gross rent, and which has the highest sale price per square foot?\n",
    "\n",
    "**Answer:** # YOUR ANSWER HERE"
   ]
  },
  {
   "cell_type": "markdown",
   "metadata": {},
   "source": [
    "## Compose Your Data Story\n",
    "\n",
    "Based on the visualizations that you have created, compose a data story that synthesizes your analysis by answering the following questions:"
   ]
  },
  {
   "cell_type": "markdown",
   "metadata": {},
   "source": [
    "**Question:**  How does the trend in rental income growth compare to the trend in sales prices? Does this same trend hold true for all the neighborhoods across San Francisco?\n",
    "\n",
    "**Answer:** # YOUR ANSWER HERE"
   ]
  },
  {
   "cell_type": "markdown",
   "metadata": {},
   "source": [
    "**Question:** What insights can you share with your company about the potential one-click, buy-and-rent strategy that they're pursuing? Do neighborhoods exist that you would suggest for investment, and why?\n",
    "\n",
    "**Answer:** # YOUR ANSWER HERE"
   ]
  },
  {
   "cell_type": "code",
   "execution_count": null,
   "metadata": {},
   "outputs": [],
   "source": []
  }
 ],
 "metadata": {
  "file_extension": ".py",
  "kernelspec": {
   "display_name": "Python 3 (ipykernel)",
   "language": "python",
   "name": "python3"
  },
  "language_info": {
   "codemirror_mode": {
    "name": "ipython",
    "version": 3
   },
   "file_extension": ".py",
   "mimetype": "text/x-python",
   "name": "python",
   "nbconvert_exporter": "python",
   "pygments_lexer": "ipython3",
   "version": "3.7.13"
  },
  "mimetype": "text/x-python",
  "name": "python",
  "npconvert_exporter": "python",
  "pygments_lexer": "ipython3",
  "version": 3
 },
 "nbformat": 4,
 "nbformat_minor": 4
}
